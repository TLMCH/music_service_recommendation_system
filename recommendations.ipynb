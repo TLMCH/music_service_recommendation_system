{
 "cells": [
  {
   "cell_type": "markdown",
   "id": "f4095ae4-7294-4b28-853e-88d235002c97",
   "metadata": {},
   "source": [
    "# Инициализация"
   ]
  },
  {
   "cell_type": "markdown",
   "id": "2f2318d2-9df8-4911-915e-15b725c44f8a",
   "metadata": {},
   "source": [
    "Загружаем библиотеки необходимые для выполнения кода ноутбука."
   ]
  },
  {
   "cell_type": "markdown",
   "id": "31491cde",
   "metadata": {},
   "source": [
    "<font color='yellow'>перезапустить ячейку ниже перед выполнением 3 этапа</font>"
   ]
  },
  {
   "cell_type": "code",
   "execution_count": 1,
   "id": "662d04e7-1b0b-4e4a-9ddf-4526d7fef119",
   "metadata": {},
   "outputs": [],
   "source": [
    "import pandas as pd\n",
    "import numpy as np\n",
    "import boto3\n",
    "from surprise import Dataset, Reader\n",
    "from surprise import SVD\n",
    "from surprise import accuracy\n",
    "from surprise import NormalPredictor\n",
    "import joblib\n",
    "import scipy\n",
    "import sklearn.preprocessing\n",
    "import sys\n",
    "import os"
   ]
  },
  {
   "cell_type": "markdown",
   "id": "bf80fbc5-b660-4fac-8fbb-a5cae77313b3",
   "metadata": {},
   "source": [
    "# === ЭТАП 1 ==="
   ]
  },
  {
   "cell_type": "markdown",
   "id": "5263a8b3-fe99-4204-8a2e-105182792c11",
   "metadata": {},
   "source": [
    "# Загрузка первичных данных"
   ]
  },
  {
   "cell_type": "markdown",
   "id": "1b54a6a5-1656-4e3c-99d1-49dc39451d33",
   "metadata": {},
   "source": [
    "Загружаем первичные данные из файлов:\n",
    "- tracks.parquet\n",
    "- catalog_names.parquet\n",
    "- interactions.parquet"
   ]
  },
  {
   "cell_type": "code",
   "execution_count": 10,
   "id": "5d4b8961-3f35-4e58-9d6b-3e2dbd2c4224",
   "metadata": {},
   "outputs": [],
   "source": [
    "tracks = pd.read_parquet('tracks.parquet')\n",
    "catalog_names = pd.read_parquet('catalog_names.parquet')\n",
    "interactions = pd.read_parquet('interactions.parquet')"
   ]
  },
  {
   "cell_type": "markdown",
   "id": "e8f2a1f7-a05f-4f39-af90-5f4018aa6f9d",
   "metadata": {},
   "source": [
    "# Обзор данных"
   ]
  },
  {
   "cell_type": "markdown",
   "id": "46a85307-896c-4fac-9fcf-f0dffa90889e",
   "metadata": {},
   "source": [
    "Проверяем данные, есть ли с ними явные проблемы."
   ]
  },
  {
   "cell_type": "code",
   "execution_count": 4,
   "id": "c9f8f17e-9b56-4f5a-a463-f694a993effb",
   "metadata": {},
   "outputs": [
    {
     "data": {
      "text/html": [
       "<div>\n",
       "<style scoped>\n",
       "    .dataframe tbody tr th:only-of-type {\n",
       "        vertical-align: middle;\n",
       "    }\n",
       "\n",
       "    .dataframe tbody tr th {\n",
       "        vertical-align: top;\n",
       "    }\n",
       "\n",
       "    .dataframe thead th {\n",
       "        text-align: right;\n",
       "    }\n",
       "</style>\n",
       "<table border=\"1\" class=\"dataframe\">\n",
       "  <thead>\n",
       "    <tr style=\"text-align: right;\">\n",
       "      <th></th>\n",
       "      <th>track_id</th>\n",
       "      <th>albums</th>\n",
       "      <th>artists</th>\n",
       "      <th>genres</th>\n",
       "    </tr>\n",
       "  </thead>\n",
       "  <tbody>\n",
       "    <tr>\n",
       "      <th>0</th>\n",
       "      <td>26</td>\n",
       "      <td>[3, 2490753]</td>\n",
       "      <td>[16]</td>\n",
       "      <td>[11, 21]</td>\n",
       "    </tr>\n",
       "    <tr>\n",
       "      <th>1</th>\n",
       "      <td>38</td>\n",
       "      <td>[3, 2490753]</td>\n",
       "      <td>[16]</td>\n",
       "      <td>[11, 21]</td>\n",
       "    </tr>\n",
       "    <tr>\n",
       "      <th>2</th>\n",
       "      <td>135</td>\n",
       "      <td>[12, 214, 2490809]</td>\n",
       "      <td>[84]</td>\n",
       "      <td>[11]</td>\n",
       "    </tr>\n",
       "    <tr>\n",
       "      <th>3</th>\n",
       "      <td>136</td>\n",
       "      <td>[12, 214, 2490809]</td>\n",
       "      <td>[84]</td>\n",
       "      <td>[11]</td>\n",
       "    </tr>\n",
       "    <tr>\n",
       "      <th>4</th>\n",
       "      <td>138</td>\n",
       "      <td>[12, 214, 322, 72275, 72292, 91199, 213505, 24...</td>\n",
       "      <td>[84]</td>\n",
       "      <td>[11]</td>\n",
       "    </tr>\n",
       "    <tr>\n",
       "      <th>5</th>\n",
       "      <td>139</td>\n",
       "      <td>[12, 214, 2490809]</td>\n",
       "      <td>[84]</td>\n",
       "      <td>[11]</td>\n",
       "    </tr>\n",
       "    <tr>\n",
       "      <th>6</th>\n",
       "      <td>140</td>\n",
       "      <td>[12, 214, 2490809]</td>\n",
       "      <td>[84]</td>\n",
       "      <td>[11]</td>\n",
       "    </tr>\n",
       "    <tr>\n",
       "      <th>7</th>\n",
       "      <td>141</td>\n",
       "      <td>[12, 214, 60093, 2490809, 10023160, 15635235, ...</td>\n",
       "      <td>[84]</td>\n",
       "      <td>[11]</td>\n",
       "    </tr>\n",
       "    <tr>\n",
       "      <th>8</th>\n",
       "      <td>143</td>\n",
       "      <td>[12, 214, 2490809]</td>\n",
       "      <td>[84]</td>\n",
       "      <td>[11]</td>\n",
       "    </tr>\n",
       "    <tr>\n",
       "      <th>9</th>\n",
       "      <td>144</td>\n",
       "      <td>[13, 99422]</td>\n",
       "      <td>[90]</td>\n",
       "      <td>[59, 102]</td>\n",
       "    </tr>\n",
       "  </tbody>\n",
       "</table>\n",
       "</div>"
      ],
      "text/plain": [
       "   track_id                                             albums artists  \\\n",
       "0        26                                       [3, 2490753]    [16]   \n",
       "1        38                                       [3, 2490753]    [16]   \n",
       "2       135                                 [12, 214, 2490809]    [84]   \n",
       "3       136                                 [12, 214, 2490809]    [84]   \n",
       "4       138  [12, 214, 322, 72275, 72292, 91199, 213505, 24...    [84]   \n",
       "5       139                                 [12, 214, 2490809]    [84]   \n",
       "6       140                                 [12, 214, 2490809]    [84]   \n",
       "7       141  [12, 214, 60093, 2490809, 10023160, 15635235, ...    [84]   \n",
       "8       143                                 [12, 214, 2490809]    [84]   \n",
       "9       144                                        [13, 99422]    [90]   \n",
       "\n",
       "      genres  \n",
       "0   [11, 21]  \n",
       "1   [11, 21]  \n",
       "2       [11]  \n",
       "3       [11]  \n",
       "4       [11]  \n",
       "5       [11]  \n",
       "6       [11]  \n",
       "7       [11]  \n",
       "8       [11]  \n",
       "9  [59, 102]  "
      ]
     },
     "execution_count": 4,
     "metadata": {},
     "output_type": "execute_result"
    }
   ],
   "source": [
    "tracks.head(10)"
   ]
  },
  {
   "cell_type": "code",
   "execution_count": 5,
   "id": "efd2e2eb-3bec-4ce1-87ac-232bab8bc0d0",
   "metadata": {},
   "outputs": [
    {
     "name": "stdout",
     "output_type": "stream",
     "text": [
      "<class 'pandas.core.frame.DataFrame'>\n",
      "RangeIndex: 1000000 entries, 0 to 999999\n",
      "Data columns (total 4 columns):\n",
      " #   Column    Non-Null Count    Dtype \n",
      "---  ------    --------------    ----- \n",
      " 0   track_id  1000000 non-null  int64 \n",
      " 1   albums    1000000 non-null  object\n",
      " 2   artists   1000000 non-null  object\n",
      " 3   genres    1000000 non-null  object\n",
      "dtypes: int64(1), object(3)\n",
      "memory usage: 30.5+ MB\n"
     ]
    }
   ],
   "source": [
    "tracks.info()"
   ]
  },
  {
   "cell_type": "code",
   "execution_count": 6,
   "id": "610a99f7",
   "metadata": {},
   "outputs": [
    {
     "data": {
      "text/html": [
       "<div>\n",
       "<style scoped>\n",
       "    .dataframe tbody tr th:only-of-type {\n",
       "        vertical-align: middle;\n",
       "    }\n",
       "\n",
       "    .dataframe tbody tr th {\n",
       "        vertical-align: top;\n",
       "    }\n",
       "\n",
       "    .dataframe thead th {\n",
       "        text-align: right;\n",
       "    }\n",
       "</style>\n",
       "<table border=\"1\" class=\"dataframe\">\n",
       "  <thead>\n",
       "    <tr style=\"text-align: right;\">\n",
       "      <th></th>\n",
       "      <th>track_id</th>\n",
       "      <th>albums</th>\n",
       "      <th>artists</th>\n",
       "      <th>genres</th>\n",
       "    </tr>\n",
       "  </thead>\n",
       "  <tbody>\n",
       "    <tr>\n",
       "      <th>0</th>\n",
       "      <td>26</td>\n",
       "      <td>2</td>\n",
       "      <td>1</td>\n",
       "      <td>2</td>\n",
       "    </tr>\n",
       "    <tr>\n",
       "      <th>1</th>\n",
       "      <td>38</td>\n",
       "      <td>2</td>\n",
       "      <td>1</td>\n",
       "      <td>2</td>\n",
       "    </tr>\n",
       "    <tr>\n",
       "      <th>2</th>\n",
       "      <td>135</td>\n",
       "      <td>3</td>\n",
       "      <td>1</td>\n",
       "      <td>1</td>\n",
       "    </tr>\n",
       "    <tr>\n",
       "      <th>3</th>\n",
       "      <td>136</td>\n",
       "      <td>3</td>\n",
       "      <td>1</td>\n",
       "      <td>1</td>\n",
       "    </tr>\n",
       "    <tr>\n",
       "      <th>4</th>\n",
       "      <td>138</td>\n",
       "      <td>10</td>\n",
       "      <td>1</td>\n",
       "      <td>1</td>\n",
       "    </tr>\n",
       "    <tr>\n",
       "      <th>...</th>\n",
       "      <td>...</td>\n",
       "      <td>...</td>\n",
       "      <td>...</td>\n",
       "      <td>...</td>\n",
       "    </tr>\n",
       "    <tr>\n",
       "      <th>999995</th>\n",
       "      <td>101478482</td>\n",
       "      <td>1</td>\n",
       "      <td>1</td>\n",
       "      <td>2</td>\n",
       "    </tr>\n",
       "    <tr>\n",
       "      <th>999996</th>\n",
       "      <td>101490148</td>\n",
       "      <td>1</td>\n",
       "      <td>1</td>\n",
       "      <td>2</td>\n",
       "    </tr>\n",
       "    <tr>\n",
       "      <th>999997</th>\n",
       "      <td>101493057</td>\n",
       "      <td>1</td>\n",
       "      <td>1</td>\n",
       "      <td>2</td>\n",
       "    </tr>\n",
       "    <tr>\n",
       "      <th>999998</th>\n",
       "      <td>101495927</td>\n",
       "      <td>1</td>\n",
       "      <td>1</td>\n",
       "      <td>2</td>\n",
       "    </tr>\n",
       "    <tr>\n",
       "      <th>999999</th>\n",
       "      <td>101521819</td>\n",
       "      <td>1</td>\n",
       "      <td>1</td>\n",
       "      <td>2</td>\n",
       "    </tr>\n",
       "  </tbody>\n",
       "</table>\n",
       "<p>1000000 rows × 4 columns</p>\n",
       "</div>"
      ],
      "text/plain": [
       "         track_id  albums  artists  genres\n",
       "0              26       2        1       2\n",
       "1              38       2        1       2\n",
       "2             135       3        1       1\n",
       "3             136       3        1       1\n",
       "4             138      10        1       1\n",
       "...           ...     ...      ...     ...\n",
       "999995  101478482       1        1       2\n",
       "999996  101490148       1        1       2\n",
       "999997  101493057       1        1       2\n",
       "999998  101495927       1        1       2\n",
       "999999  101521819       1        1       2\n",
       "\n",
       "[1000000 rows x 4 columns]"
      ]
     },
     "execution_count": 6,
     "metadata": {},
     "output_type": "execute_result"
    }
   ],
   "source": [
    "tracks_len = tracks.copy()\n",
    "tracks_len['albums'] = tracks_len['albums'].apply(lambda x: len(x))\n",
    "tracks_len['artists'] = tracks_len['artists'].apply(lambda x: len(x))\n",
    "tracks_len['genres'] = tracks_len['genres'].apply(lambda x: len(x))\n",
    "tracks_len"
   ]
  },
  {
   "cell_type": "code",
   "execution_count": 7,
   "id": "1b837b88",
   "metadata": {},
   "outputs": [
    {
     "data": {
      "text/html": [
       "<div>\n",
       "<style scoped>\n",
       "    .dataframe tbody tr th:only-of-type {\n",
       "        vertical-align: middle;\n",
       "    }\n",
       "\n",
       "    .dataframe tbody tr th {\n",
       "        vertical-align: top;\n",
       "    }\n",
       "\n",
       "    .dataframe thead th {\n",
       "        text-align: right;\n",
       "    }\n",
       "</style>\n",
       "<table border=\"1\" class=\"dataframe\">\n",
       "  <thead>\n",
       "    <tr style=\"text-align: right;\">\n",
       "      <th></th>\n",
       "      <th>track_id</th>\n",
       "      <th>albums</th>\n",
       "      <th>artists</th>\n",
       "      <th>genres</th>\n",
       "    </tr>\n",
       "  </thead>\n",
       "  <tbody>\n",
       "    <tr>\n",
       "      <th>310821</th>\n",
       "      <td>20200372</td>\n",
       "      <td>0</td>\n",
       "      <td>0</td>\n",
       "      <td>0</td>\n",
       "    </tr>\n",
       "    <tr>\n",
       "      <th>310826</th>\n",
       "      <td>20200380</td>\n",
       "      <td>0</td>\n",
       "      <td>0</td>\n",
       "      <td>0</td>\n",
       "    </tr>\n",
       "    <tr>\n",
       "      <th>312469</th>\n",
       "      <td>20305116</td>\n",
       "      <td>0</td>\n",
       "      <td>0</td>\n",
       "      <td>0</td>\n",
       "    </tr>\n",
       "    <tr>\n",
       "      <th>312474</th>\n",
       "      <td>20305121</td>\n",
       "      <td>0</td>\n",
       "      <td>0</td>\n",
       "      <td>0</td>\n",
       "    </tr>\n",
       "    <tr>\n",
       "      <th>320353</th>\n",
       "      <td>20756854</td>\n",
       "      <td>0</td>\n",
       "      <td>0</td>\n",
       "      <td>0</td>\n",
       "    </tr>\n",
       "    <tr>\n",
       "      <th>326588</th>\n",
       "      <td>21196099</td>\n",
       "      <td>0</td>\n",
       "      <td>0</td>\n",
       "      <td>0</td>\n",
       "    </tr>\n",
       "    <tr>\n",
       "      <th>326592</th>\n",
       "      <td>21196103</td>\n",
       "      <td>0</td>\n",
       "      <td>0</td>\n",
       "      <td>0</td>\n",
       "    </tr>\n",
       "    <tr>\n",
       "      <th>326594</th>\n",
       "      <td>21196105</td>\n",
       "      <td>0</td>\n",
       "      <td>0</td>\n",
       "      <td>0</td>\n",
       "    </tr>\n",
       "    <tr>\n",
       "      <th>326596</th>\n",
       "      <td>21196107</td>\n",
       "      <td>0</td>\n",
       "      <td>0</td>\n",
       "      <td>0</td>\n",
       "    </tr>\n",
       "    <tr>\n",
       "      <th>326598</th>\n",
       "      <td>21196109</td>\n",
       "      <td>0</td>\n",
       "      <td>0</td>\n",
       "      <td>0</td>\n",
       "    </tr>\n",
       "    <tr>\n",
       "      <th>326600</th>\n",
       "      <td>21196111</td>\n",
       "      <td>0</td>\n",
       "      <td>0</td>\n",
       "      <td>0</td>\n",
       "    </tr>\n",
       "    <tr>\n",
       "      <th>326605</th>\n",
       "      <td>21196116</td>\n",
       "      <td>0</td>\n",
       "      <td>0</td>\n",
       "      <td>0</td>\n",
       "    </tr>\n",
       "    <tr>\n",
       "      <th>326606</th>\n",
       "      <td>21196117</td>\n",
       "      <td>0</td>\n",
       "      <td>0</td>\n",
       "      <td>0</td>\n",
       "    </tr>\n",
       "    <tr>\n",
       "      <th>326607</th>\n",
       "      <td>21196118</td>\n",
       "      <td>0</td>\n",
       "      <td>0</td>\n",
       "      <td>0</td>\n",
       "    </tr>\n",
       "    <tr>\n",
       "      <th>415644</th>\n",
       "      <td>28530632</td>\n",
       "      <td>0</td>\n",
       "      <td>0</td>\n",
       "      <td>0</td>\n",
       "    </tr>\n",
       "    <tr>\n",
       "      <th>503277</th>\n",
       "      <td>34828749</td>\n",
       "      <td>0</td>\n",
       "      <td>0</td>\n",
       "      <td>0</td>\n",
       "    </tr>\n",
       "    <tr>\n",
       "      <th>527490</th>\n",
       "      <td>36598340</td>\n",
       "      <td>0</td>\n",
       "      <td>0</td>\n",
       "      <td>0</td>\n",
       "    </tr>\n",
       "    <tr>\n",
       "      <th>700211</th>\n",
       "      <td>51641225</td>\n",
       "      <td>0</td>\n",
       "      <td>0</td>\n",
       "      <td>0</td>\n",
       "    </tr>\n",
       "  </tbody>\n",
       "</table>\n",
       "</div>"
      ],
      "text/plain": [
       "        track_id  albums  artists  genres\n",
       "310821  20200372       0        0       0\n",
       "310826  20200380       0        0       0\n",
       "312469  20305116       0        0       0\n",
       "312474  20305121       0        0       0\n",
       "320353  20756854       0        0       0\n",
       "326588  21196099       0        0       0\n",
       "326592  21196103       0        0       0\n",
       "326594  21196105       0        0       0\n",
       "326596  21196107       0        0       0\n",
       "326598  21196109       0        0       0\n",
       "326600  21196111       0        0       0\n",
       "326605  21196116       0        0       0\n",
       "326606  21196117       0        0       0\n",
       "326607  21196118       0        0       0\n",
       "415644  28530632       0        0       0\n",
       "503277  34828749       0        0       0\n",
       "527490  36598340       0        0       0\n",
       "700211  51641225       0        0       0"
      ]
     },
     "execution_count": 7,
     "metadata": {},
     "output_type": "execute_result"
    }
   ],
   "source": [
    "tracks_len[tracks_len['albums'] == 0]"
   ]
  },
  {
   "cell_type": "code",
   "execution_count": 8,
   "id": "e4ec0e11",
   "metadata": {},
   "outputs": [
    {
     "data": {
      "text/html": [
       "<div>\n",
       "<style scoped>\n",
       "    .dataframe tbody tr th:only-of-type {\n",
       "        vertical-align: middle;\n",
       "    }\n",
       "\n",
       "    .dataframe tbody tr th {\n",
       "        vertical-align: top;\n",
       "    }\n",
       "\n",
       "    .dataframe thead th {\n",
       "        text-align: right;\n",
       "    }\n",
       "</style>\n",
       "<table border=\"1\" class=\"dataframe\">\n",
       "  <thead>\n",
       "    <tr style=\"text-align: right;\">\n",
       "      <th></th>\n",
       "      <th>track_id</th>\n",
       "      <th>albums</th>\n",
       "      <th>artists</th>\n",
       "      <th>genres</th>\n",
       "    </tr>\n",
       "  </thead>\n",
       "  <tbody>\n",
       "    <tr>\n",
       "      <th>146031</th>\n",
       "      <td>3599314</td>\n",
       "      <td>1</td>\n",
       "      <td>0</td>\n",
       "      <td>2</td>\n",
       "    </tr>\n",
       "    <tr>\n",
       "      <th>146163</th>\n",
       "      <td>3599591</td>\n",
       "      <td>1</td>\n",
       "      <td>0</td>\n",
       "      <td>2</td>\n",
       "    </tr>\n",
       "    <tr>\n",
       "      <th>177544</th>\n",
       "      <td>4790215</td>\n",
       "      <td>1</td>\n",
       "      <td>0</td>\n",
       "      <td>2</td>\n",
       "    </tr>\n",
       "    <tr>\n",
       "      <th>218922</th>\n",
       "      <td>10063296</td>\n",
       "      <td>1</td>\n",
       "      <td>0</td>\n",
       "      <td>2</td>\n",
       "    </tr>\n",
       "    <tr>\n",
       "      <th>231455</th>\n",
       "      <td>12122918</td>\n",
       "      <td>1</td>\n",
       "      <td>0</td>\n",
       "      <td>1</td>\n",
       "    </tr>\n",
       "    <tr>\n",
       "      <th>...</th>\n",
       "      <td>...</td>\n",
       "      <td>...</td>\n",
       "      <td>...</td>\n",
       "      <td>...</td>\n",
       "    </tr>\n",
       "    <tr>\n",
       "      <th>999868</th>\n",
       "      <td>101201589</td>\n",
       "      <td>1</td>\n",
       "      <td>0</td>\n",
       "      <td>2</td>\n",
       "    </tr>\n",
       "    <tr>\n",
       "      <th>999876</th>\n",
       "      <td>101219571</td>\n",
       "      <td>1</td>\n",
       "      <td>0</td>\n",
       "      <td>3</td>\n",
       "    </tr>\n",
       "    <tr>\n",
       "      <th>999901</th>\n",
       "      <td>101243616</td>\n",
       "      <td>1</td>\n",
       "      <td>0</td>\n",
       "      <td>2</td>\n",
       "    </tr>\n",
       "    <tr>\n",
       "      <th>999920</th>\n",
       "      <td>101292599</td>\n",
       "      <td>1</td>\n",
       "      <td>0</td>\n",
       "      <td>4</td>\n",
       "    </tr>\n",
       "    <tr>\n",
       "      <th>999951</th>\n",
       "      <td>101362545</td>\n",
       "      <td>1</td>\n",
       "      <td>0</td>\n",
       "      <td>4</td>\n",
       "    </tr>\n",
       "  </tbody>\n",
       "</table>\n",
       "<p>15369 rows × 4 columns</p>\n",
       "</div>"
      ],
      "text/plain": [
       "         track_id  albums  artists  genres\n",
       "146031    3599314       1        0       2\n",
       "146163    3599591       1        0       2\n",
       "177544    4790215       1        0       2\n",
       "218922   10063296       1        0       2\n",
       "231455   12122918       1        0       1\n",
       "...           ...     ...      ...     ...\n",
       "999868  101201589       1        0       2\n",
       "999876  101219571       1        0       3\n",
       "999901  101243616       1        0       2\n",
       "999920  101292599       1        0       4\n",
       "999951  101362545       1        0       4\n",
       "\n",
       "[15369 rows x 4 columns]"
      ]
     },
     "execution_count": 8,
     "metadata": {},
     "output_type": "execute_result"
    }
   ],
   "source": [
    "tracks_len[tracks_len['artists'] == 0]"
   ]
  },
  {
   "cell_type": "code",
   "execution_count": 9,
   "id": "95b833e8",
   "metadata": {},
   "outputs": [
    {
     "data": {
      "text/html": [
       "<div>\n",
       "<style scoped>\n",
       "    .dataframe tbody tr th:only-of-type {\n",
       "        vertical-align: middle;\n",
       "    }\n",
       "\n",
       "    .dataframe tbody tr th {\n",
       "        vertical-align: top;\n",
       "    }\n",
       "\n",
       "    .dataframe thead th {\n",
       "        text-align: right;\n",
       "    }\n",
       "</style>\n",
       "<table border=\"1\" class=\"dataframe\">\n",
       "  <thead>\n",
       "    <tr style=\"text-align: right;\">\n",
       "      <th></th>\n",
       "      <th>track_id</th>\n",
       "      <th>albums</th>\n",
       "      <th>artists</th>\n",
       "      <th>genres</th>\n",
       "    </tr>\n",
       "  </thead>\n",
       "  <tbody>\n",
       "    <tr>\n",
       "      <th>490</th>\n",
       "      <td>2520</td>\n",
       "      <td>9</td>\n",
       "      <td>1</td>\n",
       "      <td>0</td>\n",
       "    </tr>\n",
       "    <tr>\n",
       "      <th>3069</th>\n",
       "      <td>16776</td>\n",
       "      <td>52</td>\n",
       "      <td>1</td>\n",
       "      <td>0</td>\n",
       "    </tr>\n",
       "    <tr>\n",
       "      <th>3077</th>\n",
       "      <td>16801</td>\n",
       "      <td>74</td>\n",
       "      <td>1</td>\n",
       "      <td>0</td>\n",
       "    </tr>\n",
       "    <tr>\n",
       "      <th>4192</th>\n",
       "      <td>23752</td>\n",
       "      <td>10</td>\n",
       "      <td>1</td>\n",
       "      <td>0</td>\n",
       "    </tr>\n",
       "    <tr>\n",
       "      <th>6645</th>\n",
       "      <td>38012</td>\n",
       "      <td>7</td>\n",
       "      <td>1</td>\n",
       "      <td>0</td>\n",
       "    </tr>\n",
       "    <tr>\n",
       "      <th>...</th>\n",
       "      <td>...</td>\n",
       "      <td>...</td>\n",
       "      <td>...</td>\n",
       "      <td>...</td>\n",
       "    </tr>\n",
       "    <tr>\n",
       "      <th>997667</th>\n",
       "      <td>99412992</td>\n",
       "      <td>1</td>\n",
       "      <td>1</td>\n",
       "      <td>0</td>\n",
       "    </tr>\n",
       "    <tr>\n",
       "      <th>999192</th>\n",
       "      <td>100497082</td>\n",
       "      <td>1</td>\n",
       "      <td>1</td>\n",
       "      <td>0</td>\n",
       "    </tr>\n",
       "    <tr>\n",
       "      <th>999703</th>\n",
       "      <td>100923319</td>\n",
       "      <td>1</td>\n",
       "      <td>1</td>\n",
       "      <td>0</td>\n",
       "    </tr>\n",
       "    <tr>\n",
       "      <th>999704</th>\n",
       "      <td>100923322</td>\n",
       "      <td>1</td>\n",
       "      <td>1</td>\n",
       "      <td>0</td>\n",
       "    </tr>\n",
       "    <tr>\n",
       "      <th>999705</th>\n",
       "      <td>100923326</td>\n",
       "      <td>1</td>\n",
       "      <td>1</td>\n",
       "      <td>0</td>\n",
       "    </tr>\n",
       "  </tbody>\n",
       "</table>\n",
       "<p>3687 rows × 4 columns</p>\n",
       "</div>"
      ],
      "text/plain": [
       "         track_id  albums  artists  genres\n",
       "490          2520       9        1       0\n",
       "3069        16776      52        1       0\n",
       "3077        16801      74        1       0\n",
       "4192        23752      10        1       0\n",
       "6645        38012       7        1       0\n",
       "...           ...     ...      ...     ...\n",
       "997667   99412992       1        1       0\n",
       "999192  100497082       1        1       0\n",
       "999703  100923319       1        1       0\n",
       "999704  100923322       1        1       0\n",
       "999705  100923326       1        1       0\n",
       "\n",
       "[3687 rows x 4 columns]"
      ]
     },
     "execution_count": 9,
     "metadata": {},
     "output_type": "execute_result"
    }
   ],
   "source": [
    "tracks_len[tracks_len['genres'] == 0]"
   ]
  },
  {
   "cell_type": "code",
   "execution_count": 10,
   "id": "a55e3c21",
   "metadata": {},
   "outputs": [],
   "source": [
    "empty_indexes = list(set(\n",
    "    tracks_len[tracks_len['albums'] == 0].index.values.tolist() + \n",
    "    tracks_len[tracks_len['artists'] == 0].index.values.tolist() + \n",
    "    tracks_len[tracks_len['genres'] == 0].index.values.tolist()))"
   ]
  },
  {
   "cell_type": "code",
   "execution_count": 11,
   "id": "94238d97",
   "metadata": {},
   "outputs": [],
   "source": [
    "tracks.drop(empty_indexes, inplace=True)"
   ]
  },
  {
   "cell_type": "code",
   "execution_count": 12,
   "id": "1ea08db6",
   "metadata": {},
   "outputs": [
    {
     "data": {
      "text/html": [
       "<div>\n",
       "<style scoped>\n",
       "    .dataframe tbody tr th:only-of-type {\n",
       "        vertical-align: middle;\n",
       "    }\n",
       "\n",
       "    .dataframe tbody tr th {\n",
       "        vertical-align: top;\n",
       "    }\n",
       "\n",
       "    .dataframe thead th {\n",
       "        text-align: right;\n",
       "    }\n",
       "</style>\n",
       "<table border=\"1\" class=\"dataframe\">\n",
       "  <thead>\n",
       "    <tr style=\"text-align: right;\">\n",
       "      <th></th>\n",
       "      <th>id</th>\n",
       "      <th>type</th>\n",
       "      <th>name</th>\n",
       "    </tr>\n",
       "  </thead>\n",
       "  <tbody>\n",
       "    <tr>\n",
       "      <th>0</th>\n",
       "      <td>3</td>\n",
       "      <td>album</td>\n",
       "      <td>Taller Children</td>\n",
       "    </tr>\n",
       "    <tr>\n",
       "      <th>1</th>\n",
       "      <td>12</td>\n",
       "      <td>album</td>\n",
       "      <td>Wild Young Hearts</td>\n",
       "    </tr>\n",
       "    <tr>\n",
       "      <th>2</th>\n",
       "      <td>13</td>\n",
       "      <td>album</td>\n",
       "      <td>Lonesome Crow</td>\n",
       "    </tr>\n",
       "    <tr>\n",
       "      <th>3</th>\n",
       "      <td>17</td>\n",
       "      <td>album</td>\n",
       "      <td>Graffiti Soul</td>\n",
       "    </tr>\n",
       "    <tr>\n",
       "      <th>4</th>\n",
       "      <td>26</td>\n",
       "      <td>album</td>\n",
       "      <td>Blues Six Pack</td>\n",
       "    </tr>\n",
       "  </tbody>\n",
       "</table>\n",
       "</div>"
      ],
      "text/plain": [
       "   id   type               name\n",
       "0   3  album    Taller Children\n",
       "1  12  album  Wild Young Hearts\n",
       "2  13  album      Lonesome Crow\n",
       "3  17  album      Graffiti Soul\n",
       "4  26  album     Blues Six Pack"
      ]
     },
     "execution_count": 12,
     "metadata": {},
     "output_type": "execute_result"
    }
   ],
   "source": [
    "catalog_names.head()"
   ]
  },
  {
   "cell_type": "code",
   "execution_count": 13,
   "id": "7747a40e",
   "metadata": {},
   "outputs": [
    {
     "name": "stdout",
     "output_type": "stream",
     "text": [
      "<class 'pandas.core.frame.DataFrame'>\n",
      "RangeIndex: 1812471 entries, 0 to 1812470\n",
      "Data columns (total 3 columns):\n",
      " #   Column  Dtype \n",
      "---  ------  ----- \n",
      " 0   id      int64 \n",
      " 1   type    object\n",
      " 2   name    object\n",
      "dtypes: int64(1), object(2)\n",
      "memory usage: 41.5+ MB\n"
     ]
    }
   ],
   "source": [
    "catalog_names.info()"
   ]
  },
  {
   "cell_type": "code",
   "execution_count": 14,
   "id": "f7c63cb7",
   "metadata": {},
   "outputs": [
    {
     "data": {
      "text/plain": [
       "id     type   name \n",
       "False  False  False    1812471\n",
       "Name: count, dtype: int64"
      ]
     },
     "execution_count": 14,
     "metadata": {},
     "output_type": "execute_result"
    }
   ],
   "source": [
    "catalog_names.isnull().value_counts()"
   ]
  },
  {
   "cell_type": "code",
   "execution_count": 15,
   "id": "6c3abf66",
   "metadata": {},
   "outputs": [
    {
     "data": {
      "text/plain": [
       "type\n",
       "track     1000000\n",
       "album      658724\n",
       "artist     153581\n",
       "genre         166\n",
       "Name: count, dtype: int64"
      ]
     },
     "execution_count": 15,
     "metadata": {},
     "output_type": "execute_result"
    }
   ],
   "source": [
    "catalog_names['type'].value_counts()"
   ]
  },
  {
   "cell_type": "code",
   "execution_count": 11,
   "id": "ea3e365f",
   "metadata": {},
   "outputs": [
    {
     "data": {
      "text/html": [
       "<div>\n",
       "<style scoped>\n",
       "    .dataframe tbody tr th:only-of-type {\n",
       "        vertical-align: middle;\n",
       "    }\n",
       "\n",
       "    .dataframe tbody tr th {\n",
       "        vertical-align: top;\n",
       "    }\n",
       "\n",
       "    .dataframe thead th {\n",
       "        text-align: right;\n",
       "    }\n",
       "</style>\n",
       "<table border=\"1\" class=\"dataframe\">\n",
       "  <thead>\n",
       "    <tr style=\"text-align: right;\">\n",
       "      <th></th>\n",
       "      <th>id</th>\n",
       "      <th>type</th>\n",
       "      <th>name</th>\n",
       "      <th>track_id</th>\n",
       "      <th>album_id</th>\n",
       "      <th>artist_id</th>\n",
       "      <th>genre_id</th>\n",
       "    </tr>\n",
       "  </thead>\n",
       "  <tbody>\n",
       "    <tr>\n",
       "      <th>0</th>\n",
       "      <td>3</td>\n",
       "      <td>album</td>\n",
       "      <td>Taller Children</td>\n",
       "      <td>NaN</td>\n",
       "      <td>3.0</td>\n",
       "      <td>NaN</td>\n",
       "      <td>NaN</td>\n",
       "    </tr>\n",
       "    <tr>\n",
       "      <th>1</th>\n",
       "      <td>12</td>\n",
       "      <td>album</td>\n",
       "      <td>Wild Young Hearts</td>\n",
       "      <td>NaN</td>\n",
       "      <td>12.0</td>\n",
       "      <td>NaN</td>\n",
       "      <td>NaN</td>\n",
       "    </tr>\n",
       "    <tr>\n",
       "      <th>2</th>\n",
       "      <td>13</td>\n",
       "      <td>album</td>\n",
       "      <td>Lonesome Crow</td>\n",
       "      <td>NaN</td>\n",
       "      <td>13.0</td>\n",
       "      <td>NaN</td>\n",
       "      <td>NaN</td>\n",
       "    </tr>\n",
       "    <tr>\n",
       "      <th>3</th>\n",
       "      <td>17</td>\n",
       "      <td>album</td>\n",
       "      <td>Graffiti Soul</td>\n",
       "      <td>NaN</td>\n",
       "      <td>17.0</td>\n",
       "      <td>NaN</td>\n",
       "      <td>NaN</td>\n",
       "    </tr>\n",
       "    <tr>\n",
       "      <th>4</th>\n",
       "      <td>26</td>\n",
       "      <td>album</td>\n",
       "      <td>Blues Six Pack</td>\n",
       "      <td>NaN</td>\n",
       "      <td>26.0</td>\n",
       "      <td>NaN</td>\n",
       "      <td>NaN</td>\n",
       "    </tr>\n",
       "    <tr>\n",
       "      <th>...</th>\n",
       "      <td>...</td>\n",
       "      <td>...</td>\n",
       "      <td>...</td>\n",
       "      <td>...</td>\n",
       "      <td>...</td>\n",
       "      <td>...</td>\n",
       "      <td>...</td>\n",
       "    </tr>\n",
       "    <tr>\n",
       "      <th>1812466</th>\n",
       "      <td>101478482</td>\n",
       "      <td>track</td>\n",
       "      <td>На лицо</td>\n",
       "      <td>101478482.0</td>\n",
       "      <td>NaN</td>\n",
       "      <td>NaN</td>\n",
       "      <td>NaN</td>\n",
       "    </tr>\n",
       "    <tr>\n",
       "      <th>1812467</th>\n",
       "      <td>101490148</td>\n",
       "      <td>track</td>\n",
       "      <td>Без капли мысли</td>\n",
       "      <td>101490148.0</td>\n",
       "      <td>NaN</td>\n",
       "      <td>NaN</td>\n",
       "      <td>NaN</td>\n",
       "    </tr>\n",
       "    <tr>\n",
       "      <th>1812468</th>\n",
       "      <td>101493057</td>\n",
       "      <td>track</td>\n",
       "      <td>SKITTLES</td>\n",
       "      <td>101493057.0</td>\n",
       "      <td>NaN</td>\n",
       "      <td>NaN</td>\n",
       "      <td>NaN</td>\n",
       "    </tr>\n",
       "    <tr>\n",
       "      <th>1812469</th>\n",
       "      <td>101495927</td>\n",
       "      <td>track</td>\n",
       "      <td>Москва</td>\n",
       "      <td>101495927.0</td>\n",
       "      <td>NaN</td>\n",
       "      <td>NaN</td>\n",
       "      <td>NaN</td>\n",
       "    </tr>\n",
       "    <tr>\n",
       "      <th>1812470</th>\n",
       "      <td>101521819</td>\n",
       "      <td>track</td>\n",
       "      <td>Вокзал</td>\n",
       "      <td>101521819.0</td>\n",
       "      <td>NaN</td>\n",
       "      <td>NaN</td>\n",
       "      <td>NaN</td>\n",
       "    </tr>\n",
       "  </tbody>\n",
       "</table>\n",
       "<p>1812471 rows × 7 columns</p>\n",
       "</div>"
      ],
      "text/plain": [
       "                id   type               name     track_id  album_id  \\\n",
       "0                3  album    Taller Children          NaN       3.0   \n",
       "1               12  album  Wild Young Hearts          NaN      12.0   \n",
       "2               13  album      Lonesome Crow          NaN      13.0   \n",
       "3               17  album      Graffiti Soul          NaN      17.0   \n",
       "4               26  album     Blues Six Pack          NaN      26.0   \n",
       "...            ...    ...                ...          ...       ...   \n",
       "1812466  101478482  track            На лицо  101478482.0       NaN   \n",
       "1812467  101490148  track    Без капли мысли  101490148.0       NaN   \n",
       "1812468  101493057  track           SKITTLES  101493057.0       NaN   \n",
       "1812469  101495927  track             Москва  101495927.0       NaN   \n",
       "1812470  101521819  track             Вокзал  101521819.0       NaN   \n",
       "\n",
       "         artist_id  genre_id  \n",
       "0              NaN       NaN  \n",
       "1              NaN       NaN  \n",
       "2              NaN       NaN  \n",
       "3              NaN       NaN  \n",
       "4              NaN       NaN  \n",
       "...            ...       ...  \n",
       "1812466        NaN       NaN  \n",
       "1812467        NaN       NaN  \n",
       "1812468        NaN       NaN  \n",
       "1812469        NaN       NaN  \n",
       "1812470        NaN       NaN  \n",
       "\n",
       "[1812471 rows x 7 columns]"
      ]
     },
     "execution_count": 11,
     "metadata": {},
     "output_type": "execute_result"
    }
   ],
   "source": [
    "def fill_track_id(row) -> int:\n",
    "    if row['type'] == 'track':\n",
    "        return int(row['id'])\n",
    "    else:\n",
    "        return None\n",
    "    \n",
    "def fill_album_id(row) -> int:\n",
    "    if row['type'] == 'album':\n",
    "        return int(row['id'])\n",
    "    else:\n",
    "        return None\n",
    "    \n",
    "def fill_artist_id(row) -> int:\n",
    "    if row['type'] == 'artist':\n",
    "        return int(row['id'])\n",
    "    else:\n",
    "        return None\n",
    "    \n",
    "def fill_genre_id(row) -> int:\n",
    "    if row['type'] == 'genre':\n",
    "        return int(row['id'])\n",
    "    else:\n",
    "        return None\n",
    "    \n",
    "\n",
    "catalog_names['track_id'] = catalog_names.apply(fill_track_id, axis=1)\n",
    "catalog_names['album_id'] = catalog_names.apply(fill_album_id, axis=1)\n",
    "catalog_names['artist_id'] = catalog_names.apply(fill_artist_id, axis=1)\n",
    "catalog_names['genre_id'] = catalog_names.apply(fill_genre_id, axis=1)\n",
    "catalog_names"
   ]
  },
  {
   "cell_type": "code",
   "execution_count": 17,
   "id": "b1c545c8",
   "metadata": {},
   "outputs": [
    {
     "data": {
      "text/html": [
       "<div>\n",
       "<style scoped>\n",
       "    .dataframe tbody tr th:only-of-type {\n",
       "        vertical-align: middle;\n",
       "    }\n",
       "\n",
       "    .dataframe tbody tr th {\n",
       "        vertical-align: top;\n",
       "    }\n",
       "\n",
       "    .dataframe thead th {\n",
       "        text-align: right;\n",
       "    }\n",
       "</style>\n",
       "<table border=\"1\" class=\"dataframe\">\n",
       "  <thead>\n",
       "    <tr style=\"text-align: right;\">\n",
       "      <th></th>\n",
       "      <th>user_id</th>\n",
       "      <th>track_id</th>\n",
       "      <th>track_seq</th>\n",
       "      <th>started_at</th>\n",
       "    </tr>\n",
       "  </thead>\n",
       "  <tbody>\n",
       "    <tr>\n",
       "      <th>0</th>\n",
       "      <td>0</td>\n",
       "      <td>99262</td>\n",
       "      <td>1</td>\n",
       "      <td>2022-07-17</td>\n",
       "    </tr>\n",
       "    <tr>\n",
       "      <th>1</th>\n",
       "      <td>0</td>\n",
       "      <td>589498</td>\n",
       "      <td>2</td>\n",
       "      <td>2022-07-19</td>\n",
       "    </tr>\n",
       "    <tr>\n",
       "      <th>2</th>\n",
       "      <td>0</td>\n",
       "      <td>590262</td>\n",
       "      <td>3</td>\n",
       "      <td>2022-07-21</td>\n",
       "    </tr>\n",
       "    <tr>\n",
       "      <th>3</th>\n",
       "      <td>0</td>\n",
       "      <td>590303</td>\n",
       "      <td>4</td>\n",
       "      <td>2022-07-22</td>\n",
       "    </tr>\n",
       "    <tr>\n",
       "      <th>4</th>\n",
       "      <td>0</td>\n",
       "      <td>590692</td>\n",
       "      <td>5</td>\n",
       "      <td>2022-07-22</td>\n",
       "    </tr>\n",
       "  </tbody>\n",
       "</table>\n",
       "</div>"
      ],
      "text/plain": [
       "   user_id  track_id  track_seq started_at\n",
       "0        0     99262          1 2022-07-17\n",
       "1        0    589498          2 2022-07-19\n",
       "2        0    590262          3 2022-07-21\n",
       "3        0    590303          4 2022-07-22\n",
       "4        0    590692          5 2022-07-22"
      ]
     },
     "execution_count": 17,
     "metadata": {},
     "output_type": "execute_result"
    }
   ],
   "source": [
    "interactions.head()"
   ]
  },
  {
   "cell_type": "code",
   "execution_count": 18,
   "id": "40ce5d44",
   "metadata": {},
   "outputs": [
    {
     "name": "stdout",
     "output_type": "stream",
     "text": [
      "<class 'pandas.core.frame.DataFrame'>\n",
      "Index: 222629898 entries, 0 to 291\n",
      "Data columns (total 4 columns):\n",
      " #   Column      Dtype         \n",
      "---  ------      -----         \n",
      " 0   user_id     int32         \n",
      " 1   track_id    int32         \n",
      " 2   track_seq   int16         \n",
      " 3   started_at  datetime64[ns]\n",
      "dtypes: datetime64[ns](1), int16(1), int32(2)\n",
      "memory usage: 5.4 GB\n"
     ]
    }
   ],
   "source": [
    "interactions.info()"
   ]
  },
  {
   "cell_type": "code",
   "execution_count": 19,
   "id": "15a80902",
   "metadata": {},
   "outputs": [
    {
     "data": {
      "text/plain": [
       "user_id  track_id  track_seq  started_at\n",
       "False    False     False      False         222629898\n",
       "Name: count, dtype: int64"
      ]
     },
     "execution_count": 19,
     "metadata": {},
     "output_type": "execute_result"
    }
   ],
   "source": [
    "interactions.isnull().value_counts()"
   ]
  },
  {
   "cell_type": "code",
   "execution_count": 20,
   "id": "4ba308b4",
   "metadata": {},
   "outputs": [],
   "source": [
    "interactions = interactions.query('track_seq < 1000')"
   ]
  },
  {
   "cell_type": "code",
   "execution_count": 21,
   "id": "dcdf1595",
   "metadata": {},
   "outputs": [
    {
     "data": {
      "text/html": [
       "<div>\n",
       "<style scoped>\n",
       "    .dataframe tbody tr th:only-of-type {\n",
       "        vertical-align: middle;\n",
       "    }\n",
       "\n",
       "    .dataframe tbody tr th {\n",
       "        vertical-align: top;\n",
       "    }\n",
       "\n",
       "    .dataframe thead th {\n",
       "        text-align: right;\n",
       "    }\n",
       "</style>\n",
       "<table border=\"1\" class=\"dataframe\">\n",
       "  <thead>\n",
       "    <tr style=\"text-align: right;\">\n",
       "      <th></th>\n",
       "      <th>user_id</th>\n",
       "      <th>track_id</th>\n",
       "      <th>track_seq</th>\n",
       "      <th>started_at</th>\n",
       "    </tr>\n",
       "  </thead>\n",
       "  <tbody>\n",
       "    <tr>\n",
       "      <th>0</th>\n",
       "      <td>0</td>\n",
       "      <td>99262</td>\n",
       "      <td>1</td>\n",
       "      <td>2022-07-17</td>\n",
       "    </tr>\n",
       "    <tr>\n",
       "      <th>1</th>\n",
       "      <td>0</td>\n",
       "      <td>589498</td>\n",
       "      <td>2</td>\n",
       "      <td>2022-07-19</td>\n",
       "    </tr>\n",
       "    <tr>\n",
       "      <th>2</th>\n",
       "      <td>0</td>\n",
       "      <td>590262</td>\n",
       "      <td>3</td>\n",
       "      <td>2022-07-21</td>\n",
       "    </tr>\n",
       "    <tr>\n",
       "      <th>3</th>\n",
       "      <td>0</td>\n",
       "      <td>590303</td>\n",
       "      <td>4</td>\n",
       "      <td>2022-07-22</td>\n",
       "    </tr>\n",
       "    <tr>\n",
       "      <th>4</th>\n",
       "      <td>0</td>\n",
       "      <td>590692</td>\n",
       "      <td>5</td>\n",
       "      <td>2022-07-22</td>\n",
       "    </tr>\n",
       "    <tr>\n",
       "      <th>...</th>\n",
       "      <td>...</td>\n",
       "      <td>...</td>\n",
       "      <td>...</td>\n",
       "      <td>...</td>\n",
       "    </tr>\n",
       "    <tr>\n",
       "      <th>287</th>\n",
       "      <td>1374582</td>\n",
       "      <td>95514767</td>\n",
       "      <td>288</td>\n",
       "      <td>2022-12-29</td>\n",
       "    </tr>\n",
       "    <tr>\n",
       "      <th>288</th>\n",
       "      <td>1374582</td>\n",
       "      <td>97220301</td>\n",
       "      <td>289</td>\n",
       "      <td>2022-12-29</td>\n",
       "    </tr>\n",
       "    <tr>\n",
       "      <th>289</th>\n",
       "      <td>1374582</td>\n",
       "      <td>97241171</td>\n",
       "      <td>290</td>\n",
       "      <td>2022-12-29</td>\n",
       "    </tr>\n",
       "    <tr>\n",
       "      <th>290</th>\n",
       "      <td>1374582</td>\n",
       "      <td>98542641</td>\n",
       "      <td>291</td>\n",
       "      <td>2022-12-29</td>\n",
       "    </tr>\n",
       "    <tr>\n",
       "      <th>291</th>\n",
       "      <td>1374582</td>\n",
       "      <td>100736375</td>\n",
       "      <td>292</td>\n",
       "      <td>2022-12-30</td>\n",
       "    </tr>\n",
       "  </tbody>\n",
       "</table>\n",
       "<p>195844860 rows × 4 columns</p>\n",
       "</div>"
      ],
      "text/plain": [
       "     user_id   track_id  track_seq started_at\n",
       "0          0      99262          1 2022-07-17\n",
       "1          0     589498          2 2022-07-19\n",
       "2          0     590262          3 2022-07-21\n",
       "3          0     590303          4 2022-07-22\n",
       "4          0     590692          5 2022-07-22\n",
       "..       ...        ...        ...        ...\n",
       "287  1374582   95514767        288 2022-12-29\n",
       "288  1374582   97220301        289 2022-12-29\n",
       "289  1374582   97241171        290 2022-12-29\n",
       "290  1374582   98542641        291 2022-12-29\n",
       "291  1374582  100736375        292 2022-12-30\n",
       "\n",
       "[195844860 rows x 4 columns]"
      ]
     },
     "execution_count": 21,
     "metadata": {},
     "output_type": "execute_result"
    }
   ],
   "source": [
    "interactions"
   ]
  },
  {
   "cell_type": "code",
   "execution_count": 22,
   "id": "94dc07c7",
   "metadata": {},
   "outputs": [
    {
     "name": "stdout",
     "output_type": "stream",
     "text": [
      "<class 'pandas.core.frame.DataFrame'>\n",
      "Index: 980977 entries, 0 to 999999\n",
      "Data columns (total 4 columns):\n",
      " #   Column    Non-Null Count   Dtype \n",
      "---  ------    --------------   ----- \n",
      " 0   track_id  980977 non-null  int64 \n",
      " 1   albums    980977 non-null  object\n",
      " 2   artists   980977 non-null  object\n",
      " 3   genres    980977 non-null  object\n",
      "dtypes: int64(1), object(3)\n",
      "memory usage: 37.4+ MB\n"
     ]
    }
   ],
   "source": [
    "tracks.info()"
   ]
  },
  {
   "cell_type": "code",
   "execution_count": 23,
   "id": "e537eda0",
   "metadata": {},
   "outputs": [],
   "source": [
    "track_id = pd.DataFrame(interactions['track_id'].unique(), columns=['track_id'])\n",
    "tracks = tracks.merge(track_id, on=['track_id'], how='inner')\n",
    "interactions = interactions.merge(track_id, on=['track_id'], how='inner')\n",
    "track_id = pd.DataFrame(tracks['track_id'].unique(), columns=['track_id'])\n",
    "tracks = tracks.merge(track_id, on=['track_id'], how='inner')\n",
    "interactions = interactions.merge(track_id, on=['track_id'], how='inner')"
   ]
  },
  {
   "cell_type": "code",
   "execution_count": 24,
   "id": "6de03637",
   "metadata": {},
   "outputs": [
    {
     "data": {
      "text/plain": [
       "980193"
      ]
     },
     "execution_count": 24,
     "metadata": {},
     "output_type": "execute_result"
    }
   ],
   "source": [
    "len(interactions['track_id'].unique())"
   ]
  },
  {
   "cell_type": "code",
   "execution_count": 25,
   "id": "4dde7f12",
   "metadata": {},
   "outputs": [
    {
     "data": {
      "text/plain": [
       "980193"
      ]
     },
     "execution_count": 25,
     "metadata": {},
     "output_type": "execute_result"
    }
   ],
   "source": [
    "len(tracks['track_id'].unique())"
   ]
  },
  {
   "cell_type": "markdown",
   "id": "318b573a-9e2d-4808-95db-60cfb8bbdb73",
   "metadata": {
    "editable": true,
    "slideshow": {
     "slide_type": ""
    },
    "tags": []
   },
   "source": [
    "# Выводы"
   ]
  },
  {
   "cell_type": "markdown",
   "id": "caa96e12-36a8-4401-8f11-98627a49ae9d",
   "metadata": {},
   "source": [
    "Приведём выводы по первому знакомству с данными:\n",
    "- есть ли с данными явные проблемы,\n",
    "- какие корректирующие действия (в целом) были предприняты."
   ]
  },
  {
   "cell_type": "markdown",
   "id": "55261c18",
   "metadata": {},
   "source": [
    "В таблице tracks были найдены песни у которых отсутствовал один или несколько признаков. Все эти песни были удалены."
   ]
  },
  {
   "cell_type": "markdown",
   "id": "3f219b57",
   "metadata": {},
   "source": [
    "В таблице catalog_names были добавлены столбцы с индексами для каждого типа значений в этой таблице: track, album, artist, genre."
   ]
  },
  {
   "cell_type": "markdown",
   "id": "336378c4",
   "metadata": {},
   "source": [
    "В таблице interactions были удалены все взаимодействия пользователей после тысячного прослушенного трека, чтобы сократить размер таблицы. Данные о треках с которыми теперь нет взаимодействий были удалены из таблицы tracks."
   ]
  },
  {
   "cell_type": "markdown",
   "id": "7bc3296b-eba6-4333-a78d-b9304aa87e3d",
   "metadata": {},
   "source": [
    "# === ЭТАП 2 ==="
   ]
  },
  {
   "cell_type": "markdown",
   "id": "68e73960-fd38-4e15-8db0-9a25c35dfd25",
   "metadata": {},
   "source": [
    "# EDA"
   ]
  },
  {
   "cell_type": "markdown",
   "id": "a30e823e-8e0f-4a76-a02e-8d1ba8bf0f8a",
   "metadata": {},
   "source": [
    "Распределение количества прослушанных треков."
   ]
  },
  {
   "cell_type": "code",
   "execution_count": 26,
   "id": "ff74e933",
   "metadata": {},
   "outputs": [],
   "source": [
    "a = interactions.groupby(['track_id']).count()\n",
    "a.drop(columns=['track_seq', 'started_at'], inplace=True)\n",
    "a['track_id'] = a.index\n",
    "a.rename(columns={'user_id': 'listening_count'}, inplace=True)\n",
    "tracks = tracks.merge(a['listening_count'], on='track_id', how='left')"
   ]
  },
  {
   "cell_type": "code",
   "execution_count": 27,
   "id": "3255cab2",
   "metadata": {},
   "outputs": [
    {
     "data": {
      "text/plain": [
       "count    980193.000000\n",
       "mean        199.402645\n",
       "std        1306.776756\n",
       "min           1.000000\n",
       "25%           7.000000\n",
       "50%          15.000000\n",
       "75%          54.000000\n",
       "max      111062.000000\n",
       "Name: listening_count, dtype: float64"
      ]
     },
     "execution_count": 27,
     "metadata": {},
     "output_type": "execute_result"
    }
   ],
   "source": [
    "tracks['listening_count'].describe()"
   ]
  },
  {
   "cell_type": "markdown",
   "id": "d765519a-18dd-4d30-9e29-cc2d84cacd79",
   "metadata": {},
   "source": [
    "Наиболее популярные треки"
   ]
  },
  {
   "cell_type": "code",
   "execution_count": 28,
   "id": "aecaf630-fde0-4860-b84a-42c933a9606e",
   "metadata": {},
   "outputs": [],
   "source": [
    "top_100_listening = tracks.sort_values(by='listening_count', ascending=False).iloc[:100]"
   ]
  },
  {
   "cell_type": "code",
   "execution_count": 29,
   "id": "5ade1924",
   "metadata": {},
   "outputs": [
    {
     "data": {
      "text/html": [
       "<div>\n",
       "<style scoped>\n",
       "    .dataframe tbody tr th:only-of-type {\n",
       "        vertical-align: middle;\n",
       "    }\n",
       "\n",
       "    .dataframe tbody tr th {\n",
       "        vertical-align: top;\n",
       "    }\n",
       "\n",
       "    .dataframe thead th {\n",
       "        text-align: right;\n",
       "    }\n",
       "</style>\n",
       "<table border=\"1\" class=\"dataframe\">\n",
       "  <thead>\n",
       "    <tr style=\"text-align: right;\">\n",
       "      <th></th>\n",
       "      <th>id</th>\n",
       "      <th>type</th>\n",
       "      <th>name</th>\n",
       "      <th>track_id</th>\n",
       "      <th>album_id</th>\n",
       "      <th>artist_id</th>\n",
       "      <th>genre_id</th>\n",
       "      <th>albums</th>\n",
       "      <th>artists</th>\n",
       "      <th>genres</th>\n",
       "      <th>listening_count</th>\n",
       "    </tr>\n",
       "  </thead>\n",
       "  <tbody>\n",
       "    <tr>\n",
       "      <th>4</th>\n",
       "      <td>53404</td>\n",
       "      <td>track</td>\n",
       "      <td>Smells Like Teen Spirit</td>\n",
       "      <td>53404.0</td>\n",
       "      <td>NaN</td>\n",
       "      <td>NaN</td>\n",
       "      <td>NaN</td>\n",
       "      <td>[4367, 89708, 294911, 294912, 294914, 297393, ...</td>\n",
       "      <td>[9262]</td>\n",
       "      <td>[13, 14, 102]</td>\n",
       "      <td>111062</td>\n",
       "    </tr>\n",
       "    <tr>\n",
       "      <th>48</th>\n",
       "      <td>33311009</td>\n",
       "      <td>track</td>\n",
       "      <td>Believer</td>\n",
       "      <td>33311009.0</td>\n",
       "      <td>NaN</td>\n",
       "      <td>NaN</td>\n",
       "      <td>NaN</td>\n",
       "      <td>[4440454, 4456609, 4482682, 4882996, 5072976, ...</td>\n",
       "      <td>[675068]</td>\n",
       "      <td>[14, 102]</td>\n",
       "      <td>102752</td>\n",
       "    </tr>\n",
       "    <tr>\n",
       "      <th>8</th>\n",
       "      <td>178529</td>\n",
       "      <td>track</td>\n",
       "      <td>Numb</td>\n",
       "      <td>178529.0</td>\n",
       "      <td>NaN</td>\n",
       "      <td>NaN</td>\n",
       "      <td>NaN</td>\n",
       "      <td>[18113, 21924, 21940, 488052, 10009799]</td>\n",
       "      <td>[36800]</td>\n",
       "      <td>[41, 47]</td>\n",
       "      <td>101913</td>\n",
       "    </tr>\n",
       "    <tr>\n",
       "      <th>52</th>\n",
       "      <td>35505245</td>\n",
       "      <td>track</td>\n",
       "      <td>I Got Love</td>\n",
       "      <td>35505245.0</td>\n",
       "      <td>NaN</td>\n",
       "      <td>NaN</td>\n",
       "      <td>NaN</td>\n",
       "      <td>[4431303, 20559909]</td>\n",
       "      <td>[4611844, 588511]</td>\n",
       "      <td>[3, 75]</td>\n",
       "      <td>97415</td>\n",
       "    </tr>\n",
       "    <tr>\n",
       "      <th>21</th>\n",
       "      <td>795836</td>\n",
       "      <td>track</td>\n",
       "      <td>Shape Of My Heart</td>\n",
       "      <td>795836.0</td>\n",
       "      <td>NaN</td>\n",
       "      <td>NaN</td>\n",
       "      <td>NaN</td>\n",
       "      <td>[88770, 296297, 297576, 302579, 303469, 558376...</td>\n",
       "      <td>[680]</td>\n",
       "      <td>[11, 14, 102]</td>\n",
       "      <td>84540</td>\n",
       "    </tr>\n",
       "    <tr>\n",
       "      <th>40</th>\n",
       "      <td>24692821</td>\n",
       "      <td>track</td>\n",
       "      <td>Way Down We Go</td>\n",
       "      <td>24692821.0</td>\n",
       "      <td>NaN</td>\n",
       "      <td>NaN</td>\n",
       "      <td>NaN</td>\n",
       "      <td>[2888516, 3523463, 3530199, 4333848, 4420934, ...</td>\n",
       "      <td>[1194096]</td>\n",
       "      <td>[70]</td>\n",
       "      <td>83804</td>\n",
       "    </tr>\n",
       "    <tr>\n",
       "      <th>46</th>\n",
       "      <td>32947997</td>\n",
       "      <td>track</td>\n",
       "      <td>Shape of You</td>\n",
       "      <td>32947997.0</td>\n",
       "      <td>NaN</td>\n",
       "      <td>NaN</td>\n",
       "      <td>NaN</td>\n",
       "      <td>[4019560, 4172930, 4172931, 5614201, 5933975]</td>\n",
       "      <td>[381067]</td>\n",
       "      <td>[11]</td>\n",
       "      <td>82874</td>\n",
       "    </tr>\n",
       "    <tr>\n",
       "      <th>86</th>\n",
       "      <td>65851540</td>\n",
       "      <td>track</td>\n",
       "      <td>Юность</td>\n",
       "      <td>65851540.0</td>\n",
       "      <td>NaN</td>\n",
       "      <td>NaN</td>\n",
       "      <td>NaN</td>\n",
       "      <td>[10692414]</td>\n",
       "      <td>[1554548]</td>\n",
       "      <td>[11, 20]</td>\n",
       "      <td>81891</td>\n",
       "    </tr>\n",
       "    <tr>\n",
       "      <th>64</th>\n",
       "      <td>45499814</td>\n",
       "      <td>track</td>\n",
       "      <td>Life</td>\n",
       "      <td>45499814.0</td>\n",
       "      <td>NaN</td>\n",
       "      <td>NaN</td>\n",
       "      <td>NaN</td>\n",
       "      <td>[6109461, 7094821, 7152451, 7170954, 7285586, ...</td>\n",
       "      <td>[5007577]</td>\n",
       "      <td>[11, 20]</td>\n",
       "      <td>81396</td>\n",
       "    </tr>\n",
       "    <tr>\n",
       "      <th>30</th>\n",
       "      <td>6705392</td>\n",
       "      <td>track</td>\n",
       "      <td>Seven Nation Army</td>\n",
       "      <td>6705392.0</td>\n",
       "      <td>NaN</td>\n",
       "      <td>NaN</td>\n",
       "      <td>NaN</td>\n",
       "      <td>[720505, 949761, 2118709, 4501364, 6681581, 11...</td>\n",
       "      <td>[36963]</td>\n",
       "      <td>[13]</td>\n",
       "      <td>81063</td>\n",
       "    </tr>\n",
       "  </tbody>\n",
       "</table>\n",
       "</div>"
      ],
      "text/plain": [
       "          id   type                     name    track_id  album_id  artist_id  \\\n",
       "4      53404  track  Smells Like Teen Spirit     53404.0       NaN        NaN   \n",
       "48  33311009  track                 Believer  33311009.0       NaN        NaN   \n",
       "8     178529  track                     Numb    178529.0       NaN        NaN   \n",
       "52  35505245  track               I Got Love  35505245.0       NaN        NaN   \n",
       "21    795836  track        Shape Of My Heart    795836.0       NaN        NaN   \n",
       "40  24692821  track           Way Down We Go  24692821.0       NaN        NaN   \n",
       "46  32947997  track             Shape of You  32947997.0       NaN        NaN   \n",
       "86  65851540  track                   Юность  65851540.0       NaN        NaN   \n",
       "64  45499814  track                     Life  45499814.0       NaN        NaN   \n",
       "30   6705392  track        Seven Nation Army   6705392.0       NaN        NaN   \n",
       "\n",
       "    genre_id                                             albums  \\\n",
       "4        NaN  [4367, 89708, 294911, 294912, 294914, 297393, ...   \n",
       "48       NaN  [4440454, 4456609, 4482682, 4882996, 5072976, ...   \n",
       "8        NaN            [18113, 21924, 21940, 488052, 10009799]   \n",
       "52       NaN                                [4431303, 20559909]   \n",
       "21       NaN  [88770, 296297, 297576, 302579, 303469, 558376...   \n",
       "40       NaN  [2888516, 3523463, 3530199, 4333848, 4420934, ...   \n",
       "46       NaN      [4019560, 4172930, 4172931, 5614201, 5933975]   \n",
       "86       NaN                                         [10692414]   \n",
       "64       NaN  [6109461, 7094821, 7152451, 7170954, 7285586, ...   \n",
       "30       NaN  [720505, 949761, 2118709, 4501364, 6681581, 11...   \n",
       "\n",
       "              artists         genres  listening_count  \n",
       "4              [9262]  [13, 14, 102]           111062  \n",
       "48           [675068]      [14, 102]           102752  \n",
       "8             [36800]       [41, 47]           101913  \n",
       "52  [4611844, 588511]        [3, 75]            97415  \n",
       "21              [680]  [11, 14, 102]            84540  \n",
       "40          [1194096]           [70]            83804  \n",
       "46           [381067]           [11]            82874  \n",
       "86          [1554548]       [11, 20]            81891  \n",
       "64          [5007577]       [11, 20]            81396  \n",
       "30            [36963]           [13]            81063  "
      ]
     },
     "execution_count": 29,
     "metadata": {},
     "output_type": "execute_result"
    }
   ],
   "source": [
    "catalog_names.merge(top_100_listening, on=['track_id']).sort_values(by='listening_count', ascending=False).head(10)"
   ]
  },
  {
   "cell_type": "markdown",
   "id": "b1c32a5a-d3be-4f96-8dd9-f7860951020c",
   "metadata": {},
   "source": [
    "Наиболее популярные жанры"
   ]
  },
  {
   "cell_type": "code",
   "execution_count": 30,
   "id": "1bc50491-9235-4d3c-a6c2-297f7c05a959",
   "metadata": {},
   "outputs": [
    {
     "data": {
      "text/plain": [
       "[11, 102, 20, 14, 75]"
      ]
     },
     "execution_count": 30,
     "metadata": {},
     "output_type": "execute_result"
    }
   ],
   "source": [
    "top_genres = {}\n",
    "for i in range(100):\n",
    "    for genre in list(top_100_listening.iloc[i]['genres']):\n",
    "        if genre not in top_genres.keys():\n",
    "            top_genres[genre] = 1\n",
    "        else: \n",
    "            top_genres[genre] += 1\n",
    "\n",
    "top_5_genres = []\n",
    "for genre in sorted(top_genres, key=top_genres.get, reverse=True):\n",
    "    top_5_genres.append(genre)\n",
    "top_5_genres = top_5_genres[: 5]\n",
    "top_5_genres"
   ]
  },
  {
   "cell_type": "code",
   "execution_count": 31,
   "id": "70dd29fc",
   "metadata": {},
   "outputs": [
    {
     "name": "stdout",
     "output_type": "stream",
     "text": [
      "id: 11 \n",
      "Genre: ['pop'] \n",
      "\n",
      "id: 102 \n",
      "Genre: ['allrock'] \n",
      "\n",
      "id: 20 \n",
      "Genre: ['ruspop'] \n",
      "\n",
      "id: 14 \n",
      "Genre: ['rock'] \n",
      "\n",
      "id: 75 \n",
      "Genre: ['rap'] \n",
      "\n"
     ]
    }
   ],
   "source": [
    "for i in range(5):\n",
    "    genre = catalog_names['name'][catalog_names['genre_id'] == top_5_genres[i]].values\n",
    "    print(f'id: {top_5_genres[i]} \\nGenre: {genre} \\n')"
   ]
  },
  {
   "cell_type": "markdown",
   "id": "15254e66-e80e-473b-ba24-abebea5ccac7",
   "metadata": {},
   "source": [
    "Треки, которые никто не прослушал"
   ]
  },
  {
   "cell_type": "markdown",
   "id": "c7161102",
   "metadata": {},
   "source": [
    "Данных о таких треках не осталось, так как они были удалены из-за отсутствия информации о альбоме, исполнителе или жанре."
   ]
  },
  {
   "cell_type": "markdown",
   "id": "0d850a07-ef1e-462f-891a-1cf89f2e24ef",
   "metadata": {},
   "source": [
    "# Преобразование данных"
   ]
  },
  {
   "cell_type": "markdown",
   "id": "fabcf8d2-1192-4df5-b20b-fbb84689f57a",
   "metadata": {},
   "source": [
    "Преобразуем данные в формат, более пригодный для дальнейшего использования в расчётах рекомендаций."
   ]
  },
  {
   "cell_type": "code",
   "execution_count": 32,
   "id": "a425556a-9382-45ca-a04e-f1981a522126",
   "metadata": {},
   "outputs": [],
   "source": [
    "items = tracks.copy()\n",
    "events = interactions.copy()\n",
    "items.to_parquet(\"items.par\")\n",
    "events.to_parquet(\"events.par\")"
   ]
  },
  {
   "cell_type": "markdown",
   "id": "4d1be653-eed8-4fa0-a9c5-3811b080d71d",
   "metadata": {},
   "source": [
    "# Сохранение данных"
   ]
  },
  {
   "cell_type": "markdown",
   "id": "36f1314a-3af3-4faf-a0b1-3045173d1500",
   "metadata": {},
   "source": [
    "Сохраним данные в двух файлах в персональном S3-бакете по пути `recsys/data/`:\n",
    "- `items.parquet` — все данные о музыкальных треках,\n",
    "- `events.parquet` — все данные о взаимодействиях."
   ]
  },
  {
   "cell_type": "code",
   "execution_count": 40,
   "id": "9f77af17-7705-4fae-9aad-db579b39faad",
   "metadata": {},
   "outputs": [],
   "source": [
    "bucket_name = os.environ.get(\"S3_BUCKET_NAME\")\n",
    "aws_access_id = os.environ.get(\"AWS_ACCESS_KEY_ID\")\n",
    "aws_secret_key = os.environ.get(\"AWS_SECRET_ACCESS_KEY\")\n",
    "\n",
    "client = boto3.client('s3',\n",
    "    aws_access_key_id=aws_access_id,\n",
    "    aws_secret_access_key=aws_secret_key,\n",
    "    endpoint_url='https://storage.yandexcloud.net'\n",
    "    )\n",
    "\n",
    "client.upload_file('items.par',\n",
    "    bucket_name,\n",
    "    'recsys/data/items.parquet'\n",
    "    )\n",
    "\n",
    "client.upload_file('events.par',\n",
    "    bucket_name,\n",
    "    'recsys/data/events.parquet'\n",
    "    )"
   ]
  },
  {
   "cell_type": "markdown",
   "id": "72ecbbed-c560-44d9-9c14-86c7dc76f399",
   "metadata": {},
   "source": [
    "# Очистка памяти"
   ]
  },
  {
   "cell_type": "markdown",
   "id": "b5358ede-ba6e-4c4f-bd73-5b9344f0ba79",
   "metadata": {},
   "source": [
    "Здесь, может понадобится очистка памяти для высвобождения ресурсов для выполнения кода ниже. \n",
    "\n",
    "Приведите соответствующие код, комментарии, например:\n",
    "- код для удаление более ненужных переменных,\n",
    "- комментарий, что следует перезапустить kernel, выполнить такие-то начальные секции и продолжить с этапа 3."
   ]
  },
  {
   "cell_type": "code",
   "execution_count": null,
   "id": "767fe920-e12e-4ad8-b04e-56e8091fac9f",
   "metadata": {},
   "outputs": [],
   "source": []
  },
  {
   "cell_type": "markdown",
   "id": "a611372b",
   "metadata": {},
   "source": [
    "Необходимо переапустить kernel, выполнить ячейку под желтым комментарием и продолжить с этапа 3."
   ]
  },
  {
   "cell_type": "markdown",
   "id": "708503df-ee89-4cf3-8489-093dc478e2a8",
   "metadata": {},
   "source": [
    "# === ЭТАП 3 ==="
   ]
  },
  {
   "cell_type": "markdown",
   "id": "fd77de22-e10f-4b42-85c1-8fb6f805fe68",
   "metadata": {},
   "source": [
    "# Загрузка данных"
   ]
  },
  {
   "cell_type": "markdown",
   "id": "780a4241-1ecd-4a3e-bbb3-fc2f6ca94f68",
   "metadata": {},
   "source": [
    "Если необходимо, то загружаем items.parquet, events.parquet."
   ]
  },
  {
   "cell_type": "code",
   "execution_count": 2,
   "id": "f19fc8a5-bd2c-40d7-864a-ee75aca6d512",
   "metadata": {},
   "outputs": [],
   "source": [
    "items = pd.read_parquet('items.par')\n",
    "events = pd.read_parquet('events.par')"
   ]
  },
  {
   "cell_type": "markdown",
   "id": "a694c023-6477-490b-939d-1cfa6f5f1b72",
   "metadata": {},
   "source": [
    "# Разбиение данных"
   ]
  },
  {
   "cell_type": "markdown",
   "id": "fbd5f6e0-54e7-4428-8678-eabce505d82c",
   "metadata": {},
   "source": [
    "Разбиваем данные на тренировочную, тестовую выборки."
   ]
  },
  {
   "cell_type": "code",
   "execution_count": 13,
   "id": "84a5a070",
   "metadata": {},
   "outputs": [],
   "source": [
    "# зададим точку разбиения\n",
    "train_test_global_time_split_date = pd.to_datetime(\"2022-12-16\")\n",
    "\n",
    "train_test_global_time_split_idx = events[\"started_at\"] < train_test_global_time_split_date\n",
    "events_train = events[train_test_global_time_split_idx]\n",
    "events_test = events[~train_test_global_time_split_idx]"
   ]
  },
  {
   "cell_type": "code",
   "execution_count": 14,
   "id": "00c2dfa5-d8a2-47d1-922e-6eefee2c62d1",
   "metadata": {},
   "outputs": [
    {
     "name": "stdout",
     "output_type": "stream",
     "text": [
      "977964 561707 559478\n"
     ]
    }
   ],
   "source": [
    "# количество треков в train и test\n",
    "tracks_train = pd.DataFrame(data=events_train[\"track_id\"].drop_duplicates(), columns=[\"track_id\"])\n",
    "tracks_train = tracks_train.merge(items, on=['track_id'], how='left')\n",
    "tracks_test = pd.DataFrame(data=events_test[\"track_id\"].drop_duplicates(), columns=[\"track_id\"])\n",
    "tracks_test = tracks_test.merge(items, on=['track_id'], how='left')\n",
    "# количество треков, которые есть и в train, и в test\n",
    "common_tracks = 0\n",
    "for i in tracks_test['track_id'].values:\n",
    "    if i in tracks_train['track_id'].values:\n",
    "        common_tracks += 1\n",
    "\n",
    "print(len(tracks_train), len(tracks_test), common_tracks)"
   ]
  },
  {
   "cell_type": "markdown",
   "id": "9131c7e6-8852-4556-b510-51f7253cc299",
   "metadata": {},
   "source": [
    "# Топ популярных"
   ]
  },
  {
   "cell_type": "markdown",
   "id": "dd70d43a-88cc-4719-b291-feaed7136f30",
   "metadata": {},
   "source": [
    "Рассчитаем рекомендации как топ популярных."
   ]
  },
  {
   "cell_type": "code",
   "execution_count": 12,
   "id": "ee45e200-b7d6-4f56-9077-aad431689b96",
   "metadata": {},
   "outputs": [
    {
     "data": {
      "text/html": [
       "<div>\n",
       "<style scoped>\n",
       "    .dataframe tbody tr th:only-of-type {\n",
       "        vertical-align: middle;\n",
       "    }\n",
       "\n",
       "    .dataframe tbody tr th {\n",
       "        vertical-align: top;\n",
       "    }\n",
       "\n",
       "    .dataframe thead th {\n",
       "        text-align: right;\n",
       "    }\n",
       "</style>\n",
       "<table border=\"1\" class=\"dataframe\">\n",
       "  <thead>\n",
       "    <tr style=\"text-align: right;\">\n",
       "      <th></th>\n",
       "      <th>track_id</th>\n",
       "      <th>name</th>\n",
       "      <th>listening_count</th>\n",
       "    </tr>\n",
       "  </thead>\n",
       "  <tbody>\n",
       "    <tr>\n",
       "      <th>9092</th>\n",
       "      <td>53404.0</td>\n",
       "      <td>Smells Like Teen Spirit</td>\n",
       "      <td>111062</td>\n",
       "    </tr>\n",
       "    <tr>\n",
       "      <th>481638</th>\n",
       "      <td>33311009.0</td>\n",
       "      <td>Believer</td>\n",
       "      <td>102752</td>\n",
       "    </tr>\n",
       "    <tr>\n",
       "      <th>26638</th>\n",
       "      <td>178529.0</td>\n",
       "      <td>Numb</td>\n",
       "      <td>101913</td>\n",
       "    </tr>\n",
       "    <tr>\n",
       "      <th>509799</th>\n",
       "      <td>35505245.0</td>\n",
       "      <td>I Got Love</td>\n",
       "      <td>97415</td>\n",
       "    </tr>\n",
       "    <tr>\n",
       "      <th>90174</th>\n",
       "      <td>795836.0</td>\n",
       "      <td>Shape Of My Heart</td>\n",
       "      <td>84540</td>\n",
       "    </tr>\n",
       "    <tr>\n",
       "      <th>366338</th>\n",
       "      <td>24692821.0</td>\n",
       "      <td>Way Down We Go</td>\n",
       "      <td>83804</td>\n",
       "    </tr>\n",
       "    <tr>\n",
       "      <th>473079</th>\n",
       "      <td>32947997.0</td>\n",
       "      <td>Shape of You</td>\n",
       "      <td>82874</td>\n",
       "    </tr>\n",
       "    <tr>\n",
       "      <th>817168</th>\n",
       "      <td>65851540.0</td>\n",
       "      <td>Юность</td>\n",
       "      <td>81891</td>\n",
       "    </tr>\n",
       "    <tr>\n",
       "      <th>644160</th>\n",
       "      <td>45499814.0</td>\n",
       "      <td>Life</td>\n",
       "      <td>81396</td>\n",
       "    </tr>\n",
       "    <tr>\n",
       "      <th>196522</th>\n",
       "      <td>6705392.0</td>\n",
       "      <td>Seven Nation Army</td>\n",
       "      <td>81063</td>\n",
       "    </tr>\n",
       "  </tbody>\n",
       "</table>\n",
       "</div>"
      ],
      "text/plain": [
       "          track_id                     name  listening_count\n",
       "9092       53404.0  Smells Like Teen Spirit           111062\n",
       "481638  33311009.0                 Believer           102752\n",
       "26638     178529.0                     Numb           101913\n",
       "509799  35505245.0               I Got Love            97415\n",
       "90174     795836.0        Shape Of My Heart            84540\n",
       "366338  24692821.0           Way Down We Go            83804\n",
       "473079  32947997.0             Shape of You            82874\n",
       "817168  65851540.0                   Юность            81891\n",
       "644160  45499814.0                     Life            81396\n",
       "196522   6705392.0        Seven Nation Army            81063"
      ]
     },
     "execution_count": 12,
     "metadata": {},
     "output_type": "execute_result"
    }
   ],
   "source": [
    "top_popular = catalog_names.merge(tracks_train, on=['track_id']).sort_values(by='listening_count', ascending=False).head(100)[['track_id', 'name', 'listening_count']]\n",
    "top_popular.head(10)"
   ]
  },
  {
   "cell_type": "code",
   "execution_count": 13,
   "id": "11d371d0",
   "metadata": {},
   "outputs": [],
   "source": [
    "top_popular.to_parquet(\"top_popular.parquet\")"
   ]
  },
  {
   "cell_type": "code",
   "execution_count": 14,
   "id": "40663c06",
   "metadata": {},
   "outputs": [],
   "source": [
    "bucket_name = os.environ.get(\"S3_BUCKET_NAME\")\n",
    "aws_access_id = os.environ.get(\"AWS_ACCESS_KEY_ID\")\n",
    "aws_secret_key = os.environ.get(\"AWS_SECRET_ACCESS_KEY\")\n",
    "\n",
    "client = boto3.client('s3',\n",
    "    aws_access_key_id=aws_access_id,\n",
    "    aws_secret_access_key=aws_secret_key,\n",
    "    endpoint_url='https://storage.yandexcloud.net'\n",
    "    )\n",
    "\n",
    "client.upload_file('top_popular.parquet',\n",
    "    bucket_name,\n",
    "    'recsys/data/top_popular.parquet'\n",
    "    )"
   ]
  },
  {
   "cell_type": "markdown",
   "id": "2ad231f2-6158-421a-b7fa-01d8bc3ed572",
   "metadata": {},
   "source": [
    "# Персональные"
   ]
  },
  {
   "cell_type": "markdown",
   "id": "86159460-cd9d-4b63-8248-604ea3c9aebf",
   "metadata": {},
   "source": [
    "Рассчитаем персональные рекомендации."
   ]
  },
  {
   "cell_type": "code",
   "execution_count": 7,
   "id": "9d5cf2fd",
   "metadata": {},
   "outputs": [
    {
     "name": "stdout",
     "output_type": "stream",
     "text": [
      "sparsity = 99.98547439986586 %\n"
     ]
    }
   ],
   "source": [
    "sparsity = (1 - len(events)/(events['user_id'].nunique() * events['track_id'].nunique())) * 100\n",
    "print(\"sparsity =\",sparsity,\"%\")"
   ]
  },
  {
   "cell_type": "code",
   "execution_count": 5,
   "id": "ded48b57",
   "metadata": {},
   "outputs": [
    {
     "name": "stderr",
     "output_type": "stream",
     "text": [
      "/tmp/ipykernel_1944/239103732.py:5: SettingWithCopyWarning: \n",
      "A value is trying to be set on a copy of a slice from a DataFrame.\n",
      "Try using .loc[row_indexer,col_indexer] = value instead\n",
      "\n",
      "See the caveats in the documentation: https://pandas.pydata.org/pandas-docs/stable/user_guide/indexing.html#returning-a-view-versus-a-copy\n",
      "  events_train[\"user_id_enc\"] = user_encoder.transform(events_train[\"user_id\"])\n",
      "/tmp/ipykernel_1944/239103732.py:6: SettingWithCopyWarning: \n",
      "A value is trying to be set on a copy of a slice from a DataFrame.\n",
      "Try using .loc[row_indexer,col_indexer] = value instead\n",
      "\n",
      "See the caveats in the documentation: https://pandas.pydata.org/pandas-docs/stable/user_guide/indexing.html#returning-a-view-versus-a-copy\n",
      "  events_test[\"user_id_enc\"] = user_encoder.transform(events_test[\"user_id\"])\n",
      "/tmp/ipykernel_1944/239103732.py:13: SettingWithCopyWarning: \n",
      "A value is trying to be set on a copy of a slice from a DataFrame.\n",
      "Try using .loc[row_indexer,col_indexer] = value instead\n",
      "\n",
      "See the caveats in the documentation: https://pandas.pydata.org/pandas-docs/stable/user_guide/indexing.html#returning-a-view-versus-a-copy\n",
      "  events_train[\"track_id_enc\"] = item_encoder.transform(events_train[\"track_id\"])\n",
      "/tmp/ipykernel_1944/239103732.py:14: SettingWithCopyWarning: \n",
      "A value is trying to be set on a copy of a slice from a DataFrame.\n",
      "Try using .loc[row_indexer,col_indexer] = value instead\n",
      "\n",
      "See the caveats in the documentation: https://pandas.pydata.org/pandas-docs/stable/user_guide/indexing.html#returning-a-view-versus-a-copy\n",
      "  events_test[\"track_id_enc\"] = item_encoder.transform(events_test[\"track_id\"])\n"
     ]
    }
   ],
   "source": [
    "# перекодируем идентификаторы пользователей: \n",
    "# из имеющихся в последовательность 0, 1, 2, ...\n",
    "user_encoder = sklearn.preprocessing.LabelEncoder()\n",
    "user_encoder.fit(events[\"user_id\"])\n",
    "events_train[\"user_id_enc\"] = user_encoder.transform(events_train[\"user_id\"])\n",
    "events_test[\"user_id_enc\"] = user_encoder.transform(events_test[\"user_id\"])\n",
    "\n",
    "# перекодируем идентификаторы объектов: \n",
    "# из имеющихся в последовательность 0, 1, 2, ...\n",
    "item_encoder = sklearn.preprocessing.LabelEncoder()\n",
    "item_encoder.fit(events[\"track_id\"].unique())\n",
    "items[\"track_id_enc\"] = item_encoder.transform(items[\"track_id\"])\n",
    "events_train[\"track_id_enc\"] = item_encoder.transform(events_train[\"track_id\"])\n",
    "events_test[\"track_id_enc\"] = item_encoder.transform(events_test[\"track_id\"])"
   ]
  },
  {
   "cell_type": "code",
   "execution_count": 6,
   "id": "c6f364bd",
   "metadata": {},
   "outputs": [
    {
     "data": {
      "text/plain": [
       "['item_encoder.joblib']"
      ]
     },
     "execution_count": 6,
     "metadata": {},
     "output_type": "execute_result"
    }
   ],
   "source": [
    "joblib.dump(user_encoder, 'user_encoder.joblib')\n",
    "joblib.dump(item_encoder, 'item_encoder.joblib')"
   ]
  },
  {
   "cell_type": "code",
   "execution_count": 3,
   "id": "2470d647",
   "metadata": {},
   "outputs": [],
   "source": [
    "user_encoder = joblib.load('user_encoder.joblib')\n",
    "item_encoder = joblib.load('item_encoder.joblib')"
   ]
  },
  {
   "cell_type": "code",
   "execution_count": 17,
   "id": "fb73bdf1",
   "metadata": {},
   "outputs": [
    {
     "name": "stderr",
     "output_type": "stream",
     "text": [
      "/tmp/ipykernel_3747/886513858.py:1: SettingWithCopyWarning: \n",
      "A value is trying to be set on a copy of a slice from a DataFrame.\n",
      "Try using .loc[row_indexer,col_indexer] = value instead\n",
      "\n",
      "See the caveats in the documentation: https://pandas.pydata.org/pandas-docs/stable/user_guide/indexing.html#returning-a-view-versus-a-copy\n",
      "  events_train[\"user_id_enc\"] = user_encoder.transform(events_train[\"user_id\"])\n",
      "/tmp/ipykernel_3747/886513858.py:2: SettingWithCopyWarning: \n",
      "A value is trying to be set on a copy of a slice from a DataFrame.\n",
      "Try using .loc[row_indexer,col_indexer] = value instead\n",
      "\n",
      "See the caveats in the documentation: https://pandas.pydata.org/pandas-docs/stable/user_guide/indexing.html#returning-a-view-versus-a-copy\n",
      "  events_test[\"user_id_enc\"] = user_encoder.transform(events_test[\"user_id\"])\n",
      "/tmp/ipykernel_3747/886513858.py:5: SettingWithCopyWarning: \n",
      "A value is trying to be set on a copy of a slice from a DataFrame.\n",
      "Try using .loc[row_indexer,col_indexer] = value instead\n",
      "\n",
      "See the caveats in the documentation: https://pandas.pydata.org/pandas-docs/stable/user_guide/indexing.html#returning-a-view-versus-a-copy\n",
      "  events_train[\"track_id_enc\"] = item_encoder.transform(events_train[\"track_id\"])\n",
      "/tmp/ipykernel_3747/886513858.py:6: SettingWithCopyWarning: \n",
      "A value is trying to be set on a copy of a slice from a DataFrame.\n",
      "Try using .loc[row_indexer,col_indexer] = value instead\n",
      "\n",
      "See the caveats in the documentation: https://pandas.pydata.org/pandas-docs/stable/user_guide/indexing.html#returning-a-view-versus-a-copy\n",
      "  events_test[\"track_id_enc\"] = item_encoder.transform(events_test[\"track_id\"])\n"
     ]
    }
   ],
   "source": [
    "events_train[\"user_id_enc\"] = user_encoder.transform(events_train[\"user_id\"])\n",
    "events_test[\"user_id_enc\"] = user_encoder.transform(events_test[\"user_id\"])\n",
    "\n",
    "items[\"track_id_enc\"] = item_encoder.transform(items[\"track_id\"])\n",
    "events_train[\"track_id_enc\"] = item_encoder.transform(events_train[\"track_id\"])\n",
    "events_test[\"track_id_enc\"] = item_encoder.transform(events_test[\"track_id\"])"
   ]
  },
  {
   "cell_type": "code",
   "execution_count": 18,
   "id": "376964a6",
   "metadata": {},
   "outputs": [
    {
     "name": "stderr",
     "output_type": "stream",
     "text": [
      "/tmp/ipykernel_3747/3717546770.py:1: SettingWithCopyWarning: \n",
      "A value is trying to be set on a copy of a slice from a DataFrame.\n",
      "Try using .loc[row_indexer,col_indexer] = value instead\n",
      "\n",
      "See the caveats in the documentation: https://pandas.pydata.org/pandas-docs/stable/user_guide/indexing.html#returning-a-view-versus-a-copy\n",
      "  events_train['rating'] = 1\n",
      "/tmp/ipykernel_3747/3717546770.py:2: SettingWithCopyWarning: \n",
      "A value is trying to be set on a copy of a slice from a DataFrame.\n",
      "Try using .loc[row_indexer,col_indexer] = value instead\n",
      "\n",
      "See the caveats in the documentation: https://pandas.pydata.org/pandas-docs/stable/user_guide/indexing.html#returning-a-view-versus-a-copy\n",
      "  events_test['rating'] = 1\n"
     ]
    }
   ],
   "source": [
    "events_train['rating'] = 1\n",
    "events_test['rating'] = 1"
   ]
  },
  {
   "cell_type": "code",
   "execution_count": 10,
   "id": "24134d07",
   "metadata": {},
   "outputs": [],
   "source": [
    "# создаём sparse-матрицу формата CSR \n",
    "user_item_matrix_train = scipy.sparse.csr_matrix((\n",
    "    events_train[\"rating\"],\n",
    "    (events_train['user_id_enc'], events_train['track_id_enc'])),\n",
    "    dtype=np.int8)"
   ]
  },
  {
   "cell_type": "code",
   "execution_count": null,
   "id": "da8b6dcd",
   "metadata": {},
   "outputs": [
    {
     "data": {
      "text/plain": [
       "4.275934933684766"
      ]
     },
     "execution_count": 13,
     "metadata": {},
     "output_type": "execute_result"
    }
   ],
   "source": [
    "#  размер sparse-матрицы формата CSR  в гигабайтах\n",
    "sum([sys.getsizeof(i) for i in user_item_matrix_train.data])/1024**3"
   ]
  },
  {
   "cell_type": "code",
   "execution_count": 9,
   "id": "2d238d14",
   "metadata": {},
   "outputs": [
    {
     "name": "stderr",
     "output_type": "stream",
     "text": [
      "/home/mle-user/sprints/mle-project-sprint-4-v001/env_sprint4/lib/python3.10/site-packages/tqdm/auto.py:21: TqdmWarning: IProgress not found. Please update jupyter and ipywidgets. See https://ipywidgets.readthedocs.io/en/stable/user_install.html\n",
      "  from .autonotebook import tqdm as notebook_tqdm\n",
      "/home/mle-user/sprints/mle-project-sprint-4-v001/env_sprint4/lib/python3.10/site-packages/implicit/cpu/als.py:95: RuntimeWarning: OpenBLAS is configured to use 4 threads. It is highly recommended to disable its internal threadpool by setting the environment variable 'OPENBLAS_NUM_THREADS=1' or by calling 'threadpoolctl.threadpool_limits(1, \"blas\")'. Having OpenBLAS use a threadpool can lead to severe performance issues here.\n",
      "  check_blas_config()\n",
      "100%|██████████| 50/50 [34:27<00:00, 41.34s/it]\n"
     ]
    }
   ],
   "source": [
    "# создание и тренировка модели\n",
    "from implicit.als import AlternatingLeastSquares\n",
    "\n",
    "als_model = AlternatingLeastSquares(factors=50, iterations=50, regularization=0.05, random_state=0)\n",
    "als_model.fit(user_item_matrix_train)"
   ]
  },
  {
   "cell_type": "code",
   "execution_count": 10,
   "id": "23b4a911",
   "metadata": {},
   "outputs": [
    {
     "data": {
      "text/plain": [
       "['als_model.joblib']"
      ]
     },
     "execution_count": 10,
     "metadata": {},
     "output_type": "execute_result"
    }
   ],
   "source": [
    "joblib.dump(als_model, 'als_model.joblib')"
   ]
  },
  {
   "cell_type": "code",
   "execution_count": 15,
   "id": "bd9943a0",
   "metadata": {},
   "outputs": [
    {
     "name": "stderr",
     "output_type": "stream",
     "text": [
      "/home/mle-user/sprints/mle-project-sprint-4-v001/env_sprint4/lib/python3.10/site-packages/tqdm/auto.py:21: TqdmWarning: IProgress not found. Please update jupyter and ipywidgets. See https://ipywidgets.readthedocs.io/en/stable/user_install.html\n",
      "  from .autonotebook import tqdm as notebook_tqdm\n"
     ]
    }
   ],
   "source": [
    "als_model = joblib.load('als_model.joblib')"
   ]
  },
  {
   "cell_type": "code",
   "execution_count": 4,
   "id": "448fa34f",
   "metadata": {},
   "outputs": [],
   "source": [
    "# получаем список всех возможных user_id (перекодированных)\n",
    "user_ids_encoded = range(len(user_encoder.classes_))\n"
   ]
  },
  {
   "cell_type": "code",
   "execution_count": null,
   "id": "3636d862",
   "metadata": {},
   "outputs": [],
   "source": [
    "# получаем рекомендации для всех пользователей\n",
    "als_recommendations = als_model.recommend(\n",
    "    user_ids_encoded, \n",
    "    user_item_matrix_train[user_ids_encoded], \n",
    "    filter_already_liked_items=False, N=100)"
   ]
  },
  {
   "cell_type": "code",
   "execution_count": 14,
   "id": "40daf53f",
   "metadata": {},
   "outputs": [],
   "source": [
    "import pickle\n",
    "with open('als_recommendations.pkl', 'wb') as file:\n",
    "    pickle.dump(als_recommendations, file)"
   ]
  },
  {
   "cell_type": "code",
   "execution_count": 5,
   "id": "c8ef7464",
   "metadata": {},
   "outputs": [],
   "source": [
    "import pickle\n",
    "with open('als_recommendations.pkl', 'rb') as f:\n",
    "    als_recommendations = pickle.load(f)"
   ]
  },
  {
   "cell_type": "code",
   "execution_count": 6,
   "id": "71037c18",
   "metadata": {},
   "outputs": [],
   "source": [
    "# преобразуем полученные рекомендации в табличный формат\n",
    "item_ids_enc = als_recommendations[0]\n",
    "als_scores = als_recommendations[1]\n"
   ]
  },
  {
   "cell_type": "code",
   "execution_count": 7,
   "id": "d75db859",
   "metadata": {},
   "outputs": [],
   "source": [
    "als_recommendations = pd.DataFrame({\n",
    "    \"user_id_enc\": user_ids_encoded,\n",
    "    \"track_id_enc\": item_ids_enc.tolist(), \n",
    "    \"score\": als_scores.tolist()})"
   ]
  },
  {
   "cell_type": "code",
   "execution_count": 8,
   "id": "15510e4c",
   "metadata": {},
   "outputs": [],
   "source": [
    "als_recommendations = als_recommendations.explode([\"track_id_enc\", \"score\"], ignore_index=True)"
   ]
  },
  {
   "cell_type": "code",
   "execution_count": 9,
   "id": "b48a8807",
   "metadata": {},
   "outputs": [],
   "source": [
    "# приводим типы данных\n",
    "als_recommendations[\"track_id_enc\"] = als_recommendations[\"track_id_enc\"].astype(\"int\")\n",
    "als_recommendations[\"score\"] = als_recommendations[\"score\"].astype(\"float\")\n"
   ]
  },
  {
   "cell_type": "code",
   "execution_count": 10,
   "id": "4050225b",
   "metadata": {},
   "outputs": [],
   "source": [
    "# получаем изначальные идентификаторы\n",
    "als_recommendations[\"user_id\"] = user_encoder.inverse_transform(als_recommendations[\"user_id_enc\"])\n",
    "als_recommendations[\"track_id\"] = item_encoder.inverse_transform(als_recommendations[\"track_id_enc\"])\n",
    "als_recommendations = als_recommendations.drop(columns=[\"user_id_enc\", \"track_id_enc\"])"
   ]
  },
  {
   "cell_type": "code",
   "execution_count": 11,
   "id": "077f5767",
   "metadata": {},
   "outputs": [],
   "source": [
    "als_recommendations = als_recommendations[[\"user_id\", \"track_id\", \"score\"]]\n",
    "als_recommendations.to_parquet(\"personal_als.parquet\")"
   ]
  },
  {
   "cell_type": "code",
   "execution_count": 12,
   "id": "ad708809",
   "metadata": {},
   "outputs": [],
   "source": [
    "bucket_name = os.environ.get(\"S3_BUCKET_NAME\")\n",
    "aws_access_id = os.environ.get(\"AWS_ACCESS_KEY_ID\")\n",
    "aws_secret_key = os.environ.get(\"AWS_SECRET_ACCESS_KEY\")\n",
    "\n",
    "client = boto3.client('s3',\n",
    "    aws_access_key_id=aws_access_id,\n",
    "    aws_secret_access_key=aws_secret_key,\n",
    "    endpoint_url='https://storage.yandexcloud.net'\n",
    "    )\n",
    "\n",
    "client.upload_file('personal_als.parquet',\n",
    "    bucket_name,\n",
    "    'recsys/data/personal_als.parquet'\n",
    "    )"
   ]
  },
  {
   "cell_type": "markdown",
   "id": "5f09dc7e-7c91-4355-860a-b9cfb9f33f15",
   "metadata": {},
   "source": [
    "# Похожие"
   ]
  },
  {
   "cell_type": "markdown",
   "id": "1dfcb683-b440-40a8-9975-894156a53872",
   "metadata": {},
   "source": [
    "Рассчитаем похожие, они позже пригодятся для онлайн-рекомендаций."
   ]
  },
  {
   "cell_type": "code",
   "execution_count": 19,
   "id": "a75d07ee-4b12-4ce5-aa85-e45cb7a7a4f0",
   "metadata": {},
   "outputs": [],
   "source": [
    "# получим энкодированные идентификаторы всех объектов, известных нам из events_train\n",
    "train_item_ids_enc = events_train['track_id_enc'].unique()\n",
    "\n",
    "max_similar_items = 10\n",
    "\n",
    "# получаем списки похожих объектов, используя ранее полученную ALS-модель\n",
    "# метод similar_items возвращает и сам объект, как наиболее похожий\n",
    "# этот объект мы позже отфильтруем, но сейчас запросим на 1 больше\n",
    "similar_items = als_model.similar_items(train_item_ids_enc, N=max_similar_items+1)\n",
    "\n",
    "# преобразуем полученные списки в табличный формат\n",
    "sim_item_item_ids_enc = similar_items[0]\n",
    "sim_item_scores = similar_items[1]\n",
    "\n",
    "similar_items = pd.DataFrame({\n",
    "    \"track_id_enc\": train_item_ids_enc,\n",
    "    \"sim_track_id_enc\": sim_item_item_ids_enc.tolist(), \n",
    "    \"score\": sim_item_scores.tolist()})\n",
    "similar_items = similar_items.explode([\"sim_track_id_enc\", \"score\"], ignore_index=True)\n",
    "\n",
    "# приводим типы данных\n",
    "similar_items[\"sim_track_id_enc\"] = similar_items[\"sim_track_id_enc\"].astype(\"int\") \n",
    "similar_items[\"score\"] = similar_items[\"score\"].astype(\"float\")\n",
    "\n",
    "# получаем изначальные идентификаторы\n",
    "similar_items[\"track_id_1\"] = item_encoder.inverse_transform(similar_items[\"track_id_enc\"])\n",
    "similar_items[\"track_id_2\"] = item_encoder.inverse_transform(similar_items[\"sim_track_id_enc\"])\n",
    "similar_items = similar_items.drop(columns=[\"track_id_enc\", \"sim_track_id_enc\"])\n",
    "\n",
    "# убираем пары с одинаковыми объектами\n",
    "similar_items = similar_items.query(\"track_id_1 != track_id_2\")"
   ]
  },
  {
   "cell_type": "code",
   "execution_count": 20,
   "id": "ce370904-4c49-4152-8706-416074ea9b9a",
   "metadata": {},
   "outputs": [],
   "source": [
    "similar_items.to_parquet(\"similar.parquet\")"
   ]
  },
  {
   "cell_type": "code",
   "execution_count": 21,
   "id": "bc997f78",
   "metadata": {},
   "outputs": [],
   "source": [
    "bucket_name = os.environ.get(\"S3_BUCKET_NAME\")\n",
    "aws_access_id = os.environ.get(\"AWS_ACCESS_KEY_ID\")\n",
    "aws_secret_key = os.environ.get(\"AWS_SECRET_ACCESS_KEY\")\n",
    "\n",
    "client = boto3.client('s3',\n",
    "    aws_access_key_id=aws_access_id,\n",
    "    aws_secret_access_key=aws_secret_key,\n",
    "    endpoint_url='https://storage.yandexcloud.net'\n",
    "    )\n",
    "\n",
    "client.upload_file('similar.parquet',\n",
    "    bucket_name,\n",
    "    'recsys/data/similar.parquet'\n",
    "    )"
   ]
  },
  {
   "cell_type": "markdown",
   "id": "0087a3e7-ca9f-42cd-944c-944222c1baef",
   "metadata": {},
   "source": [
    "# Построение признаков"
   ]
  },
  {
   "cell_type": "markdown",
   "id": "e82a32e1-b90b-4eaf-9439-fc8deab9f34b",
   "metadata": {},
   "source": [
    "Построим три признака, можно больше, для ранжирующей модели."
   ]
  },
  {
   "cell_type": "code",
   "execution_count": 4,
   "id": "bfd971b6",
   "metadata": {},
   "outputs": [],
   "source": [
    "# загрузим данные\n",
    "top_popular = pd.read_parquet(\"top_popular.parquet\")\n",
    "als_recommendations = pd.read_parquet('personal_als.parquet')"
   ]
  },
  {
   "cell_type": "code",
   "execution_count": 5,
   "id": "bffaa917",
   "metadata": {},
   "outputs": [],
   "source": [
    "events_labels = events_test.copy()\n",
    "events_labels[\"target\"] = 1"
   ]
  },
  {
   "cell_type": "markdown",
   "id": "76bd405d",
   "metadata": {},
   "source": [
    "Разделим тестовую выборку для обучения ранжирующей модели. Возьмём для этого дату 31-12-2022."
   ]
  },
  {
   "cell_type": "code",
   "execution_count": 6,
   "id": "d35700ae",
   "metadata": {},
   "outputs": [],
   "source": [
    "train_test_global_time_split_date = pd.to_datetime(\"2022-12-31\")\n",
    "\n",
    "train_test_global_time_split_idx = events_labels[\"started_at\"] < train_test_global_time_split_date\n",
    "events_labels_rank = events_labels[~train_test_global_time_split_idx]\n",
    "events_labels_train = events_labels[train_test_global_time_split_idx]"
   ]
  },
  {
   "cell_type": "markdown",
   "id": "069f927d",
   "metadata": {},
   "source": [
    "#### Train"
   ]
  },
  {
   "cell_type": "code",
   "execution_count": 7,
   "id": "4b3b7070",
   "metadata": {},
   "outputs": [],
   "source": [
    "candidates_train = als_recommendations.merge(events_labels_train[[\"user_id\", \"track_id\", 'started_at', \"target\"]], on=[\"user_id\", \"track_id\"], how=\"left\")\n",
    "candidates_train[\"target\"] = candidates_train[\"target\"].fillna(0).astype(\"int\")"
   ]
  },
  {
   "cell_type": "code",
   "execution_count": 8,
   "id": "0e143899",
   "metadata": {},
   "outputs": [],
   "source": [
    "candidates_to_sample_train = candidates_train.groupby(\"user_id\").filter(lambda x: x[\"target\"].sum() > 0)"
   ]
  },
  {
   "cell_type": "code",
   "execution_count": 9,
   "id": "e7f26c9c",
   "metadata": {},
   "outputs": [],
   "source": [
    "# для каждого пользователя оставляем 5 негативных примеров\n",
    "negatives_per_user = 5\n",
    "candidates_for_train = pd.concat([\n",
    "    candidates_to_sample_train.query(\"target == 1\"),\n",
    "    candidates_to_sample_train.query(\"target == 0\") \\\n",
    "        .groupby(\"user_id\") \\\n",
    "        .apply(lambda x: x.sample(negatives_per_user, random_state=0))\n",
    "    ])"
   ]
  },
  {
   "cell_type": "code",
   "execution_count": 10,
   "id": "56052744",
   "metadata": {},
   "outputs": [],
   "source": [
    "candidates_for_train = candidates_for_train.merge(top_popular[['track_id', 'name', 'listening_count']],on='track_id')"
   ]
  },
  {
   "cell_type": "code",
   "execution_count": 7,
   "id": "9e99e4e1",
   "metadata": {},
   "outputs": [],
   "source": [
    "def genre_for_track(track_id):\n",
    "    return items[items['track_id'] == track_id][['genres']].values[0][0][0]"
   ]
  },
  {
   "cell_type": "code",
   "execution_count": 12,
   "id": "2d817fa0",
   "metadata": {},
   "outputs": [],
   "source": [
    "candidates_for_train['genre'] = candidates_for_train['track_id'].apply(genre_for_track)"
   ]
  },
  {
   "cell_type": "code",
   "execution_count": 8,
   "id": "649446d2",
   "metadata": {},
   "outputs": [],
   "source": [
    "items['genre'] = items['genres'].apply(lambda x: x[0])"
   ]
  },
  {
   "cell_type": "code",
   "execution_count": 9,
   "id": "05b4ae84-406a-44a4-abec-4f80f93e3004",
   "metadata": {},
   "outputs": [
    {
     "data": {
      "text/html": [
       "<div>\n",
       "<style scoped>\n",
       "    .dataframe tbody tr th:only-of-type {\n",
       "        vertical-align: middle;\n",
       "    }\n",
       "\n",
       "    .dataframe tbody tr th {\n",
       "        vertical-align: top;\n",
       "    }\n",
       "\n",
       "    .dataframe thead th {\n",
       "        text-align: right;\n",
       "    }\n",
       "</style>\n",
       "<table border=\"1\" class=\"dataframe\">\n",
       "  <thead>\n",
       "    <tr style=\"text-align: right;\">\n",
       "      <th></th>\n",
       "      <th>genre</th>\n",
       "      <th>popularity_of_the_genre</th>\n",
       "    </tr>\n",
       "  </thead>\n",
       "  <tbody>\n",
       "    <tr>\n",
       "      <th>10</th>\n",
       "      <td>11</td>\n",
       "      <td>2.546879e-01</td>\n",
       "    </tr>\n",
       "    <tr>\n",
       "      <th>2</th>\n",
       "      <td>3</td>\n",
       "      <td>1.123239e-01</td>\n",
       "    </tr>\n",
       "    <tr>\n",
       "      <th>52</th>\n",
       "      <td>68</td>\n",
       "      <td>8.203323e-02</td>\n",
       "    </tr>\n",
       "    <tr>\n",
       "      <th>15</th>\n",
       "      <td>16</td>\n",
       "      <td>6.720949e-02</td>\n",
       "    </tr>\n",
       "    <tr>\n",
       "      <th>1</th>\n",
       "      <td>2</td>\n",
       "      <td>5.901262e-02</td>\n",
       "    </tr>\n",
       "    <tr>\n",
       "      <th>...</th>\n",
       "      <td>...</td>\n",
       "      <td>...</td>\n",
       "    </tr>\n",
       "    <tr>\n",
       "      <th>61</th>\n",
       "      <td>106</td>\n",
       "      <td>2.341410e-07</td>\n",
       "    </tr>\n",
       "    <tr>\n",
       "      <th>70</th>\n",
       "      <td>146</td>\n",
       "      <td>1.687993e-07</td>\n",
       "    </tr>\n",
       "    <tr>\n",
       "      <th>68</th>\n",
       "      <td>124</td>\n",
       "      <td>1.579091e-07</td>\n",
       "    </tr>\n",
       "    <tr>\n",
       "      <th>71</th>\n",
       "      <td>163</td>\n",
       "      <td>1.143479e-07</td>\n",
       "    </tr>\n",
       "    <tr>\n",
       "      <th>48</th>\n",
       "      <td>61</td>\n",
       "      <td>2.722570e-08</td>\n",
       "    </tr>\n",
       "  </tbody>\n",
       "</table>\n",
       "<p>77 rows × 2 columns</p>\n",
       "</div>"
      ],
      "text/plain": [
       "    genre  popularity_of_the_genre\n",
       "10     11             2.546879e-01\n",
       "2       3             1.123239e-01\n",
       "52     68             8.203323e-02\n",
       "15     16             6.720949e-02\n",
       "1       2             5.901262e-02\n",
       "..    ...                      ...\n",
       "61    106             2.341410e-07\n",
       "70    146             1.687993e-07\n",
       "68    124             1.579091e-07\n",
       "71    163             1.143479e-07\n",
       "48     61             2.722570e-08\n",
       "\n",
       "[77 rows x 2 columns]"
      ]
     },
     "execution_count": 9,
     "metadata": {},
     "output_type": "execute_result"
    }
   ],
   "source": [
    "popularity_of_the_genre = events_train.merge(\n",
    "                items[[\"track_id\", \"genre\"]], \n",
    "                on=[\"track_id\"], \n",
    "                how=\"left\",\n",
    "                ).groupby(\"genre\")[\"track_id\"].count()\n",
    "popularity_of_the_genre /= popularity_of_the_genre.sum()\n",
    "popularity_of_the_genre = popularity_of_the_genre.reset_index().rename(columns={\"track_id\": \"popularity_of_the_genre\"})\n",
    "popularity_of_the_genre.sort_values(by=\"popularity_of_the_genre\", ascending=False)"
   ]
  },
  {
   "cell_type": "code",
   "execution_count": 15,
   "id": "00f84c35-f544-4c3d-ad53-9b1d2b684c75",
   "metadata": {},
   "outputs": [
    {
     "data": {
      "text/html": [
       "<div>\n",
       "<style scoped>\n",
       "    .dataframe tbody tr th:only-of-type {\n",
       "        vertical-align: middle;\n",
       "    }\n",
       "\n",
       "    .dataframe tbody tr th {\n",
       "        vertical-align: top;\n",
       "    }\n",
       "\n",
       "    .dataframe thead th {\n",
       "        text-align: right;\n",
       "    }\n",
       "</style>\n",
       "<table border=\"1\" class=\"dataframe\">\n",
       "  <thead>\n",
       "    <tr style=\"text-align: right;\">\n",
       "      <th></th>\n",
       "      <th>user_id</th>\n",
       "      <th>track_id</th>\n",
       "      <th>score</th>\n",
       "      <th>started_at</th>\n",
       "      <th>target</th>\n",
       "      <th>name</th>\n",
       "      <th>listening_count</th>\n",
       "      <th>genre</th>\n",
       "      <th>popularity_of_the_genre</th>\n",
       "    </tr>\n",
       "  </thead>\n",
       "  <tbody>\n",
       "    <tr>\n",
       "      <th>0</th>\n",
       "      <td>10</td>\n",
       "      <td>45499814</td>\n",
       "      <td>0.129061</td>\n",
       "      <td>2022-12-20</td>\n",
       "      <td>1</td>\n",
       "      <td>Life</td>\n",
       "      <td>81396</td>\n",
       "      <td>11</td>\n",
       "      <td>0.254688</td>\n",
       "    </tr>\n",
       "    <tr>\n",
       "      <th>1</th>\n",
       "      <td>3263</td>\n",
       "      <td>45499814</td>\n",
       "      <td>0.077301</td>\n",
       "      <td>2022-12-17</td>\n",
       "      <td>1</td>\n",
       "      <td>Life</td>\n",
       "      <td>81396</td>\n",
       "      <td>11</td>\n",
       "      <td>0.254688</td>\n",
       "    </tr>\n",
       "    <tr>\n",
       "      <th>2</th>\n",
       "      <td>4414</td>\n",
       "      <td>45499814</td>\n",
       "      <td>0.102092</td>\n",
       "      <td>2022-12-18</td>\n",
       "      <td>1</td>\n",
       "      <td>Life</td>\n",
       "      <td>81396</td>\n",
       "      <td>11</td>\n",
       "      <td>0.254688</td>\n",
       "    </tr>\n",
       "    <tr>\n",
       "      <th>3</th>\n",
       "      <td>4543</td>\n",
       "      <td>45499814</td>\n",
       "      <td>0.103995</td>\n",
       "      <td>2022-12-18</td>\n",
       "      <td>1</td>\n",
       "      <td>Life</td>\n",
       "      <td>81396</td>\n",
       "      <td>11</td>\n",
       "      <td>0.254688</td>\n",
       "    </tr>\n",
       "    <tr>\n",
       "      <th>4</th>\n",
       "      <td>4551</td>\n",
       "      <td>45499814</td>\n",
       "      <td>0.110499</td>\n",
       "      <td>2022-12-16</td>\n",
       "      <td>1</td>\n",
       "      <td>Life</td>\n",
       "      <td>81396</td>\n",
       "      <td>11</td>\n",
       "      <td>0.254688</td>\n",
       "    </tr>\n",
       "  </tbody>\n",
       "</table>\n",
       "</div>"
      ],
      "text/plain": [
       "   user_id  track_id     score started_at  target  name  listening_count  \\\n",
       "0       10  45499814  0.129061 2022-12-20       1  Life            81396   \n",
       "1     3263  45499814  0.077301 2022-12-17       1  Life            81396   \n",
       "2     4414  45499814  0.102092 2022-12-18       1  Life            81396   \n",
       "3     4543  45499814  0.103995 2022-12-18       1  Life            81396   \n",
       "4     4551  45499814  0.110499 2022-12-16       1  Life            81396   \n",
       "\n",
       "   genre  popularity_of_the_genre  \n",
       "0     11                 0.254688  \n",
       "1     11                 0.254688  \n",
       "2     11                 0.254688  \n",
       "3     11                 0.254688  \n",
       "4     11                 0.254688  "
      ]
     },
     "execution_count": 15,
     "metadata": {},
     "output_type": "execute_result"
    }
   ],
   "source": [
    "candidates_for_train = candidates_for_train.merge(\n",
    "    popularity_of_the_genre,\n",
    "    on=\"genre\",\n",
    "    how=\"left\"\n",
    ")\n",
    "\n",
    "candidates_for_train.head()"
   ]
  },
  {
   "cell_type": "code",
   "execution_count": 16,
   "id": "1f8920de",
   "metadata": {},
   "outputs": [],
   "source": [
    "candidates_for_train.to_parquet('candidates_for_train.parquet')"
   ]
  },
  {
   "cell_type": "markdown",
   "id": "7a4dfeae",
   "metadata": {},
   "source": [
    "#### Test"
   ]
  },
  {
   "cell_type": "code",
   "execution_count": 10,
   "id": "72a3975e",
   "metadata": {},
   "outputs": [],
   "source": [
    "candidates_rank = als_recommendations.merge(events_labels_rank[[\"user_id\", \"track_id\", 'started_at', \"target\"]], on=[\"user_id\", \"track_id\"], how=\"left\")\n",
    "candidates_rank[\"target\"] = candidates_rank[\"target\"].fillna(0).astype(\"int\")"
   ]
  },
  {
   "cell_type": "code",
   "execution_count": 11,
   "id": "df0d37ee",
   "metadata": {},
   "outputs": [],
   "source": [
    "candidates_to_sample_rank = candidates_rank.groupby(\"user_id\").filter(lambda x: x[\"target\"].sum() > 0)"
   ]
  },
  {
   "cell_type": "code",
   "execution_count": 12,
   "id": "943c8c51",
   "metadata": {},
   "outputs": [],
   "source": [
    "negatives_per_user = 5\n",
    "candidates_to_rank = pd.concat([\n",
    "    candidates_to_sample_rank.query(\"target == 1\"),\n",
    "    candidates_to_sample_rank.query(\"target == 0\") \\\n",
    "        .groupby(\"user_id\") \\\n",
    "        .apply(lambda x: x.sample(negatives_per_user, random_state=0))\n",
    "    ])"
   ]
  },
  {
   "cell_type": "code",
   "execution_count": 13,
   "id": "4e146522",
   "metadata": {},
   "outputs": [],
   "source": [
    "candidates_to_rank = candidates_to_rank.merge(top_popular[['track_id', 'name', 'listening_count']],on='track_id')"
   ]
  },
  {
   "cell_type": "code",
   "execution_count": 14,
   "id": "f37dda35",
   "metadata": {},
   "outputs": [],
   "source": [
    "candidates_to_rank['genre'] = candidates_to_rank['track_id'].apply(genre_for_track)"
   ]
  },
  {
   "cell_type": "code",
   "execution_count": 15,
   "id": "0b4906fe",
   "metadata": {},
   "outputs": [
    {
     "data": {
      "text/html": [
       "<div>\n",
       "<style scoped>\n",
       "    .dataframe tbody tr th:only-of-type {\n",
       "        vertical-align: middle;\n",
       "    }\n",
       "\n",
       "    .dataframe tbody tr th {\n",
       "        vertical-align: top;\n",
       "    }\n",
       "\n",
       "    .dataframe thead th {\n",
       "        text-align: right;\n",
       "    }\n",
       "</style>\n",
       "<table border=\"1\" class=\"dataframe\">\n",
       "  <thead>\n",
       "    <tr style=\"text-align: right;\">\n",
       "      <th></th>\n",
       "      <th>user_id</th>\n",
       "      <th>track_id</th>\n",
       "      <th>score</th>\n",
       "      <th>started_at</th>\n",
       "      <th>target</th>\n",
       "      <th>name</th>\n",
       "      <th>listening_count</th>\n",
       "      <th>genre</th>\n",
       "      <th>popularity_of_the_genre</th>\n",
       "    </tr>\n",
       "  </thead>\n",
       "  <tbody>\n",
       "    <tr>\n",
       "      <th>0</th>\n",
       "      <td>567</td>\n",
       "      <td>93126179</td>\n",
       "      <td>0.061367</td>\n",
       "      <td>2022-12-31</td>\n",
       "      <td>1</td>\n",
       "      <td>Солнце Монако</td>\n",
       "      <td>53247</td>\n",
       "      <td>11</td>\n",
       "      <td>0.254688</td>\n",
       "    </tr>\n",
       "    <tr>\n",
       "      <th>1</th>\n",
       "      <td>12285</td>\n",
       "      <td>93126179</td>\n",
       "      <td>0.125846</td>\n",
       "      <td>2022-12-31</td>\n",
       "      <td>1</td>\n",
       "      <td>Солнце Монако</td>\n",
       "      <td>53247</td>\n",
       "      <td>11</td>\n",
       "      <td>0.254688</td>\n",
       "    </tr>\n",
       "    <tr>\n",
       "      <th>2</th>\n",
       "      <td>31083</td>\n",
       "      <td>93126179</td>\n",
       "      <td>0.096502</td>\n",
       "      <td>2022-12-31</td>\n",
       "      <td>1</td>\n",
       "      <td>Солнце Монако</td>\n",
       "      <td>53247</td>\n",
       "      <td>11</td>\n",
       "      <td>0.254688</td>\n",
       "    </tr>\n",
       "    <tr>\n",
       "      <th>3</th>\n",
       "      <td>40370</td>\n",
       "      <td>93126179</td>\n",
       "      <td>0.140063</td>\n",
       "      <td>2022-12-31</td>\n",
       "      <td>1</td>\n",
       "      <td>Солнце Монако</td>\n",
       "      <td>53247</td>\n",
       "      <td>11</td>\n",
       "      <td>0.254688</td>\n",
       "    </tr>\n",
       "    <tr>\n",
       "      <th>4</th>\n",
       "      <td>50291</td>\n",
       "      <td>93126179</td>\n",
       "      <td>0.050845</td>\n",
       "      <td>2022-12-31</td>\n",
       "      <td>1</td>\n",
       "      <td>Солнце Монако</td>\n",
       "      <td>53247</td>\n",
       "      <td>11</td>\n",
       "      <td>0.254688</td>\n",
       "    </tr>\n",
       "  </tbody>\n",
       "</table>\n",
       "</div>"
      ],
      "text/plain": [
       "   user_id  track_id     score started_at  target           name  \\\n",
       "0      567  93126179  0.061367 2022-12-31       1  Солнце Монако   \n",
       "1    12285  93126179  0.125846 2022-12-31       1  Солнце Монако   \n",
       "2    31083  93126179  0.096502 2022-12-31       1  Солнце Монако   \n",
       "3    40370  93126179  0.140063 2022-12-31       1  Солнце Монако   \n",
       "4    50291  93126179  0.050845 2022-12-31       1  Солнце Монако   \n",
       "\n",
       "   listening_count  genre  popularity_of_the_genre  \n",
       "0            53247     11                 0.254688  \n",
       "1            53247     11                 0.254688  \n",
       "2            53247     11                 0.254688  \n",
       "3            53247     11                 0.254688  \n",
       "4            53247     11                 0.254688  "
      ]
     },
     "execution_count": 15,
     "metadata": {},
     "output_type": "execute_result"
    }
   ],
   "source": [
    "candidates_to_rank = candidates_to_rank.merge(\n",
    "    popularity_of_the_genre,\n",
    "    on=\"genre\",\n",
    "    how=\"left\"\n",
    ")\n",
    "\n",
    "candidates_to_rank.head()"
   ]
  },
  {
   "cell_type": "code",
   "execution_count": 16,
   "id": "5dfe4a3b",
   "metadata": {},
   "outputs": [],
   "source": [
    "candidates_to_rank.to_parquet('candidates_to_rank.parquet')"
   ]
  },
  {
   "cell_type": "markdown",
   "id": "47bcf88d-b236-46f0-a6f3-38ddd64895fe",
   "metadata": {},
   "source": [
    "# Ранжирование рекомендаций"
   ]
  },
  {
   "cell_type": "markdown",
   "id": "e8cd8223-3418-4493-8c87-1f76286ebda0",
   "metadata": {},
   "source": [
    "Построим ранжирующую модель, чтобы сделать рекомендации более точными. Отранжируем рекомендации."
   ]
  },
  {
   "cell_type": "code",
   "execution_count": 2,
   "id": "79f1dd92-32a9-463d-827e-8bb9ee5bbb54",
   "metadata": {},
   "outputs": [],
   "source": [
    "candidates_for_train = pd.read_parquet('candidates_for_train.parquet')\n",
    "candidates_to_rank = pd.read_parquet('candidates_to_rank.parquet')"
   ]
  },
  {
   "cell_type": "code",
   "execution_count": 3,
   "id": "01cab6d5",
   "metadata": {},
   "outputs": [
    {
     "name": "stdout",
     "output_type": "stream",
     "text": [
      "0:\tlearn: 0.6686288\ttotal: 136ms\tremaining: 2m 15s\n",
      "100:\tlearn: 0.5050293\ttotal: 3.2s\tremaining: 28.5s\n",
      "200:\tlearn: 0.4949795\ttotal: 5.89s\tremaining: 23.4s\n",
      "300:\tlearn: 0.4916569\ttotal: 8.6s\tremaining: 20s\n",
      "400:\tlearn: 0.4899772\ttotal: 11.4s\tremaining: 17s\n",
      "500:\tlearn: 0.4890193\ttotal: 14.1s\tremaining: 14.1s\n",
      "600:\tlearn: 0.4882181\ttotal: 16.9s\tremaining: 11.2s\n",
      "700:\tlearn: 0.4874374\ttotal: 19.7s\tremaining: 8.38s\n",
      "800:\tlearn: 0.4867753\ttotal: 22.5s\tremaining: 5.58s\n",
      "900:\tlearn: 0.4862658\ttotal: 25.2s\tremaining: 2.77s\n",
      "999:\tlearn: 0.4857936\ttotal: 28.1s\tremaining: 0us\n"
     ]
    },
    {
     "data": {
      "text/plain": [
       "<catboost.core.CatBoostClassifier at 0x7fdf38cafa30>"
      ]
     },
     "execution_count": 3,
     "metadata": {},
     "output_type": "execute_result"
    }
   ],
   "source": [
    "from catboost import CatBoostClassifier, Pool\n",
    "\n",
    "# задаём имена колонок признаков и таргета\n",
    "features = ['score', 'listening_count', \n",
    "    'genre', 'popularity_of_the_genre'] \n",
    "target = 'target'\n",
    "\n",
    "# создаём Pool\n",
    "train_data = Pool(\n",
    "    data=candidates_for_train[features], \n",
    "    label=candidates_for_train[target])\n",
    "\n",
    "# инициализируем модель CatBoostClassifier\n",
    "cb_model = CatBoostClassifier(\n",
    "    iterations=1000,\n",
    "    learning_rate=0.1,\n",
    "    depth=6,\n",
    "    loss_function='Logloss',\n",
    "    verbose=100,\n",
    "    random_seed=0,\n",
    ")\n",
    "\n",
    "# тренируем модель\n",
    "cb_model.fit(train_data)"
   ]
  },
  {
   "cell_type": "code",
   "execution_count": 4,
   "id": "d07f3b18",
   "metadata": {},
   "outputs": [],
   "source": [
    "inference_data = Pool(data=candidates_to_rank[features])\n",
    "predictions = cb_model.predict(inference_data)\n",
    "\n",
    "candidates_to_rank[\"cb_score\"] = predictions\n",
    "\n",
    "# для каждого пользователя проставим rank, начиная с 1 — это максимальный cb_score\n",
    "candidates_to_rank = candidates_to_rank.sort_values([\"user_id\", \"cb_score\"], ascending=[True, False])\n",
    "candidates_to_rank[\"rank\"] = candidates_to_rank.groupby(\"user_id\").cumcount() + 1\n",
    "\n",
    "max_recommendations_per_user = 5\n",
    "final_recommendations = candidates_to_rank.query(\"rank <= @max_recommendations_per_user\")"
   ]
  },
  {
   "cell_type": "code",
   "execution_count": 5,
   "id": "0b02711b",
   "metadata": {},
   "outputs": [
    {
     "data": {
      "text/html": [
       "<div>\n",
       "<style scoped>\n",
       "    .dataframe tbody tr th:only-of-type {\n",
       "        vertical-align: middle;\n",
       "    }\n",
       "\n",
       "    .dataframe tbody tr th {\n",
       "        vertical-align: top;\n",
       "    }\n",
       "\n",
       "    .dataframe thead th {\n",
       "        text-align: right;\n",
       "    }\n",
       "</style>\n",
       "<table border=\"1\" class=\"dataframe\">\n",
       "  <thead>\n",
       "    <tr style=\"text-align: right;\">\n",
       "      <th></th>\n",
       "      <th>user_id</th>\n",
       "      <th>track_id</th>\n",
       "      <th>score</th>\n",
       "      <th>started_at</th>\n",
       "      <th>target</th>\n",
       "      <th>name</th>\n",
       "      <th>listening_count</th>\n",
       "      <th>genre</th>\n",
       "      <th>popularity_of_the_genre</th>\n",
       "      <th>cb_score</th>\n",
       "      <th>rank</th>\n",
       "    </tr>\n",
       "  </thead>\n",
       "  <tbody>\n",
       "    <tr>\n",
       "      <th>6052</th>\n",
       "      <td>517</td>\n",
       "      <td>43942453</td>\n",
       "      <td>0.146684</td>\n",
       "      <td>NaT</td>\n",
       "      <td>0</td>\n",
       "      <td>NBA</td>\n",
       "      <td>66875</td>\n",
       "      <td>6</td>\n",
       "      <td>0.017179</td>\n",
       "      <td>0</td>\n",
       "      <td>1</td>\n",
       "    </tr>\n",
       "    <tr>\n",
       "      <th>0</th>\n",
       "      <td>567</td>\n",
       "      <td>93126179</td>\n",
       "      <td>0.061367</td>\n",
       "      <td>2022-12-31</td>\n",
       "      <td>1</td>\n",
       "      <td>Солнце Монако</td>\n",
       "      <td>53247</td>\n",
       "      <td>11</td>\n",
       "      <td>0.254688</td>\n",
       "      <td>1</td>\n",
       "      <td>1</td>\n",
       "    </tr>\n",
       "    <tr>\n",
       "      <th>1343</th>\n",
       "      <td>567</td>\n",
       "      <td>75642961</td>\n",
       "      <td>0.143218</td>\n",
       "      <td>NaT</td>\n",
       "      <td>0</td>\n",
       "      <td>Венера-Юпитер</td>\n",
       "      <td>52543</td>\n",
       "      <td>11</td>\n",
       "      <td>0.254688</td>\n",
       "      <td>1</td>\n",
       "      <td>2</td>\n",
       "    </tr>\n",
       "    <tr>\n",
       "      <th>6956</th>\n",
       "      <td>567</td>\n",
       "      <td>39946957</td>\n",
       "      <td>0.096747</td>\n",
       "      <td>NaT</td>\n",
       "      <td>0</td>\n",
       "      <td>Зелёные волны</td>\n",
       "      <td>65968</td>\n",
       "      <td>11</td>\n",
       "      <td>0.254688</td>\n",
       "      <td>0</td>\n",
       "      <td>3</td>\n",
       "    </tr>\n",
       "    <tr>\n",
       "      <th>2980</th>\n",
       "      <td>646</td>\n",
       "      <td>33311009</td>\n",
       "      <td>0.104532</td>\n",
       "      <td>NaT</td>\n",
       "      <td>0</td>\n",
       "      <td>Believer</td>\n",
       "      <td>102752</td>\n",
       "      <td>14</td>\n",
       "      <td>0.048135</td>\n",
       "      <td>0</td>\n",
       "      <td>1</td>\n",
       "    </tr>\n",
       "    <tr>\n",
       "      <th>...</th>\n",
       "      <td>...</td>\n",
       "      <td>...</td>\n",
       "      <td>...</td>\n",
       "      <td>...</td>\n",
       "      <td>...</td>\n",
       "      <td>...</td>\n",
       "      <td>...</td>\n",
       "      <td>...</td>\n",
       "      <td>...</td>\n",
       "      <td>...</td>\n",
       "      <td>...</td>\n",
       "    </tr>\n",
       "    <tr>\n",
       "      <th>2555</th>\n",
       "      <td>1374028</td>\n",
       "      <td>58515506</td>\n",
       "      <td>0.083118</td>\n",
       "      <td>NaT</td>\n",
       "      <td>0</td>\n",
       "      <td>Увезите меня на Дип-хаус</td>\n",
       "      <td>53810</td>\n",
       "      <td>11</td>\n",
       "      <td>0.254688</td>\n",
       "      <td>0</td>\n",
       "      <td>2</td>\n",
       "    </tr>\n",
       "    <tr>\n",
       "      <th>2781</th>\n",
       "      <td>1374028</td>\n",
       "      <td>50685843</td>\n",
       "      <td>0.062439</td>\n",
       "      <td>NaT</td>\n",
       "      <td>0</td>\n",
       "      <td>Кукла колдуна</td>\n",
       "      <td>66001</td>\n",
       "      <td>50</td>\n",
       "      <td>0.015649</td>\n",
       "      <td>0</td>\n",
       "      <td>3</td>\n",
       "    </tr>\n",
       "    <tr>\n",
       "      <th>6230</th>\n",
       "      <td>1374188</td>\n",
       "      <td>25995209</td>\n",
       "      <td>0.720607</td>\n",
       "      <td>NaT</td>\n",
       "      <td>0</td>\n",
       "      <td>Faded</td>\n",
       "      <td>51792</td>\n",
       "      <td>16</td>\n",
       "      <td>0.067209</td>\n",
       "      <td>0</td>\n",
       "      <td>1</td>\n",
       "    </tr>\n",
       "    <tr>\n",
       "      <th>2109</th>\n",
       "      <td>1374377</td>\n",
       "      <td>57799893</td>\n",
       "      <td>0.022172</td>\n",
       "      <td>NaT</td>\n",
       "      <td>0</td>\n",
       "      <td>Roses</td>\n",
       "      <td>50713</td>\n",
       "      <td>16</td>\n",
       "      <td>0.067209</td>\n",
       "      <td>0</td>\n",
       "      <td>1</td>\n",
       "    </tr>\n",
       "    <tr>\n",
       "      <th>2729</th>\n",
       "      <td>1374377</td>\n",
       "      <td>56776952</td>\n",
       "      <td>0.017486</td>\n",
       "      <td>NaT</td>\n",
       "      <td>0</td>\n",
       "      <td>2 типа людей</td>\n",
       "      <td>49790</td>\n",
       "      <td>3</td>\n",
       "      <td>0.112324</td>\n",
       "      <td>0</td>\n",
       "      <td>2</td>\n",
       "    </tr>\n",
       "  </tbody>\n",
       "</table>\n",
       "<p>8366 rows × 11 columns</p>\n",
       "</div>"
      ],
      "text/plain": [
       "      user_id  track_id     score started_at  target  \\\n",
       "6052      517  43942453  0.146684        NaT       0   \n",
       "0         567  93126179  0.061367 2022-12-31       1   \n",
       "1343      567  75642961  0.143218        NaT       0   \n",
       "6956      567  39946957  0.096747        NaT       0   \n",
       "2980      646  33311009  0.104532        NaT       0   \n",
       "...       ...       ...       ...        ...     ...   \n",
       "2555  1374028  58515506  0.083118        NaT       0   \n",
       "2781  1374028  50685843  0.062439        NaT       0   \n",
       "6230  1374188  25995209  0.720607        NaT       0   \n",
       "2109  1374377  57799893  0.022172        NaT       0   \n",
       "2729  1374377  56776952  0.017486        NaT       0   \n",
       "\n",
       "                          name  listening_count  genre  \\\n",
       "6052                       NBA            66875      6   \n",
       "0                Солнце Монако            53247     11   \n",
       "1343             Венера-Юпитер            52543     11   \n",
       "6956             Зелёные волны            65968     11   \n",
       "2980                  Believer           102752     14   \n",
       "...                        ...              ...    ...   \n",
       "2555  Увезите меня на Дип-хаус            53810     11   \n",
       "2781             Кукла колдуна            66001     50   \n",
       "6230                     Faded            51792     16   \n",
       "2109                     Roses            50713     16   \n",
       "2729              2 типа людей            49790      3   \n",
       "\n",
       "      popularity_of_the_genre  cb_score  rank  \n",
       "6052                 0.017179         0     1  \n",
       "0                    0.254688         1     1  \n",
       "1343                 0.254688         1     2  \n",
       "6956                 0.254688         0     3  \n",
       "2980                 0.048135         0     1  \n",
       "...                       ...       ...   ...  \n",
       "2555                 0.254688         0     2  \n",
       "2781                 0.015649         0     3  \n",
       "6230                 0.067209         0     1  \n",
       "2109                 0.067209         0     1  \n",
       "2729                 0.112324         0     2  \n",
       "\n",
       "[8366 rows x 11 columns]"
      ]
     },
     "execution_count": 5,
     "metadata": {},
     "output_type": "execute_result"
    }
   ],
   "source": [
    "final_recommendations"
   ]
  },
  {
   "cell_type": "code",
   "execution_count": 6,
   "id": "9157e462",
   "metadata": {},
   "outputs": [
    {
     "data": {
      "text/plain": [
       "4755"
      ]
     },
     "execution_count": 6,
     "metadata": {},
     "output_type": "execute_result"
    }
   ],
   "source": [
    "# количество пользователей попало в final_recommendations\n",
    "final_recommendations['user_id'].nunique()"
   ]
  },
  {
   "cell_type": "code",
   "execution_count": 7,
   "id": "66d96ad9",
   "metadata": {},
   "outputs": [],
   "source": [
    "# сохранение финальных рекомендаций\n",
    "final_recommendations.to_parquet(\"recommendations.parquet\")"
   ]
  },
  {
   "cell_type": "code",
   "execution_count": 8,
   "id": "aa6a7a6c",
   "metadata": {},
   "outputs": [],
   "source": [
    "bucket_name = os.environ.get(\"S3_BUCKET_NAME\")\n",
    "aws_access_id = os.environ.get(\"AWS_ACCESS_KEY_ID\")\n",
    "aws_secret_key = os.environ.get(\"AWS_SECRET_ACCESS_KEY\")\n",
    "\n",
    "client = boto3.client('s3',\n",
    "    aws_access_key_id=aws_access_id,\n",
    "    aws_secret_access_key=aws_secret_key,\n",
    "    endpoint_url='https://storage.yandexcloud.net'\n",
    "    )\n",
    "\n",
    "client.upload_file('recommendations.parquet',\n",
    "    bucket_name,\n",
    "    'recsys/data/recommendations.parquet'\n",
    "    )"
   ]
  },
  {
   "cell_type": "markdown",
   "id": "b3c84071-45b5-4a15-a683-e0ab034a3128",
   "metadata": {},
   "source": [
    "# Оценка качества"
   ]
  },
  {
   "cell_type": "markdown",
   "id": "1b107fe4-554e-42b1-87d9-c435a52bb77a",
   "metadata": {},
   "source": [
    "Проверим оценку качества трёх типов рекомендаций: \n",
    "\n",
    "- топ популярных,\n",
    "- персональных, полученных при помощи ALS,\n",
    "- итоговых\n",
    "  \n",
    "по четырем метрикам: recall, precision, coverage, novelty."
   ]
  },
  {
   "cell_type": "code",
   "execution_count": 4,
   "id": "94d4d6ad",
   "metadata": {},
   "outputs": [],
   "source": [
    "def process_events_recs_for_binary_metrics(events_train, events_test, recs, top_k=None):\n",
    "\n",
    "    \"\"\"\n",
    "    размечает пары <user_id, item_id> для общего множества пользователей признаками\n",
    "    - gt (ground truth)\n",
    "    - pr (prediction)\n",
    "    top_k: расчёт ведётся только для top k-рекомендаций\n",
    "    \"\"\"\n",
    "\n",
    "    events_test[\"gt\"] = True\n",
    "    common_users = set(events_test[\"user_id\"]) & set(recs[\"user_id\"])\n",
    "\n",
    "    print(f\"Common users: {len(common_users)}\")\n",
    "    \n",
    "    events_for_common_users = events_test[events_test[\"user_id\"].isin(common_users)].copy()\n",
    "    recs_for_common_users = recs[recs[\"user_id\"].isin(common_users)].copy()\n",
    "\n",
    "    recs_for_common_users = recs_for_common_users.sort_values([\"user_id\", \"score\"], ascending=[True, False])\n",
    "\n",
    "    # оставляет только те item_id, которые были в events_train, \n",
    "    # т. к. модель не имела никакой возможности давать рекомендации для новых айтемов\n",
    "    events_for_common_users = events_for_common_users[events_for_common_users[\"track_id\"].isin(events_train[\"track_id\"].unique())]\n",
    "\n",
    "    if top_k is not None:\n",
    "        recs_for_common_users = recs_for_common_users.groupby(\"user_id\").head(top_k)\n",
    "    \n",
    "    events_recs_common = events_for_common_users[[\"user_id\", \"track_id\", \"gt\"]].merge(\n",
    "        recs_for_common_users[[\"user_id\", \"track_id\", \"score\"]], \n",
    "        on=[\"user_id\", \"track_id\"], how=\"outer\")    \n",
    "\n",
    "    events_recs_common[\"gt\"] = events_recs_common[\"gt\"].fillna(False)\n",
    "    events_recs_common[\"pr\"] = ~events_recs_common[\"score\"].isnull()\n",
    "    \n",
    "    events_recs_common[\"tp\"] = events_recs_common[\"gt\"] & events_recs_common[\"pr\"]\n",
    "    events_recs_common[\"fp\"] = ~events_recs_common[\"gt\"] & events_recs_common[\"pr\"]\n",
    "    events_recs_common[\"fn\"] = events_recs_common[\"gt\"] & ~events_recs_common[\"pr\"]\n",
    "\n",
    "    return events_recs_common"
   ]
  },
  {
   "cell_type": "code",
   "execution_count": 5,
   "id": "fca57944",
   "metadata": {},
   "outputs": [],
   "source": [
    "def compute_cls_metrics(events_recs_for_binary_metric):\n",
    "    \n",
    "    groupper = events_recs_for_binary_metric.groupby(\"user_id\")\n",
    "\n",
    "    # precision = tp / (tp + fp)\n",
    "    precision = groupper[\"tp\"].sum()/(groupper[\"tp\"].sum()+groupper[\"fp\"].sum())\n",
    "    precision = precision.fillna(0).mean()\n",
    "    \n",
    "    # recall = tp / (tp + fn)\n",
    "    recall = groupper[\"tp\"].sum()/(groupper[\"tp\"].sum()+groupper[\"fn\"].sum())\n",
    "    recall = recall.fillna(0).mean()\n",
    "\n",
    "    return precision, recall"
   ]
  },
  {
   "cell_type": "code",
   "execution_count": 6,
   "id": "bacb6298",
   "metadata": {},
   "outputs": [],
   "source": [
    "def compute_coverage(recommendations):\n",
    "    cov_items = recommendations['track_id'].nunique() / items['track_id'].nunique()\n",
    "    return cov_items"
   ]
  },
  {
   "cell_type": "markdown",
   "id": "4d19ff98",
   "metadata": {},
   "source": [
    "#### Топ популярных"
   ]
  },
  {
   "cell_type": "code",
   "execution_count": 22,
   "id": "6b1abe6b",
   "metadata": {},
   "outputs": [],
   "source": [
    "top_popular = pd.read_parquet('top_popular.parquet')"
   ]
  },
  {
   "cell_type": "code",
   "execution_count": 23,
   "id": "dad03f76",
   "metadata": {},
   "outputs": [],
   "source": [
    "top_popular['top_pop_rating'] = 1\n",
    "rank_100 = np.arange(1, 101)\n",
    "top_popular['rank'] = rank_100"
   ]
  },
  {
   "cell_type": "markdown",
   "id": "f6a8f6be",
   "metadata": {},
   "source": [
    "Оставим только 10 треков для рекомендаций, чтобы не перегружать машину."
   ]
  },
  {
   "cell_type": "code",
   "execution_count": 24,
   "id": "522c3fc5",
   "metadata": {},
   "outputs": [],
   "source": [
    "top_popular = top_popular.head(10)"
   ]
  },
  {
   "cell_type": "code",
   "execution_count": 25,
   "id": "8ffae296",
   "metadata": {},
   "outputs": [
    {
     "data": {
      "text/html": [
       "<div>\n",
       "<style scoped>\n",
       "    .dataframe tbody tr th:only-of-type {\n",
       "        vertical-align: middle;\n",
       "    }\n",
       "\n",
       "    .dataframe tbody tr th {\n",
       "        vertical-align: top;\n",
       "    }\n",
       "\n",
       "    .dataframe thead th {\n",
       "        text-align: right;\n",
       "    }\n",
       "</style>\n",
       "<table border=\"1\" class=\"dataframe\">\n",
       "  <thead>\n",
       "    <tr style=\"text-align: right;\">\n",
       "      <th></th>\n",
       "      <th>track_id</th>\n",
       "      <th>name</th>\n",
       "      <th>listening_count</th>\n",
       "      <th>top_pop_rating</th>\n",
       "      <th>rank</th>\n",
       "    </tr>\n",
       "  </thead>\n",
       "  <tbody>\n",
       "    <tr>\n",
       "      <th>9092</th>\n",
       "      <td>53404.0</td>\n",
       "      <td>Smells Like Teen Spirit</td>\n",
       "      <td>111062</td>\n",
       "      <td>1</td>\n",
       "      <td>1</td>\n",
       "    </tr>\n",
       "    <tr>\n",
       "      <th>481638</th>\n",
       "      <td>33311009.0</td>\n",
       "      <td>Believer</td>\n",
       "      <td>102752</td>\n",
       "      <td>1</td>\n",
       "      <td>2</td>\n",
       "    </tr>\n",
       "    <tr>\n",
       "      <th>26638</th>\n",
       "      <td>178529.0</td>\n",
       "      <td>Numb</td>\n",
       "      <td>101913</td>\n",
       "      <td>1</td>\n",
       "      <td>3</td>\n",
       "    </tr>\n",
       "    <tr>\n",
       "      <th>509799</th>\n",
       "      <td>35505245.0</td>\n",
       "      <td>I Got Love</td>\n",
       "      <td>97415</td>\n",
       "      <td>1</td>\n",
       "      <td>4</td>\n",
       "    </tr>\n",
       "    <tr>\n",
       "      <th>90174</th>\n",
       "      <td>795836.0</td>\n",
       "      <td>Shape Of My Heart</td>\n",
       "      <td>84540</td>\n",
       "      <td>1</td>\n",
       "      <td>5</td>\n",
       "    </tr>\n",
       "    <tr>\n",
       "      <th>366338</th>\n",
       "      <td>24692821.0</td>\n",
       "      <td>Way Down We Go</td>\n",
       "      <td>83804</td>\n",
       "      <td>1</td>\n",
       "      <td>6</td>\n",
       "    </tr>\n",
       "    <tr>\n",
       "      <th>473079</th>\n",
       "      <td>32947997.0</td>\n",
       "      <td>Shape of You</td>\n",
       "      <td>82874</td>\n",
       "      <td>1</td>\n",
       "      <td>7</td>\n",
       "    </tr>\n",
       "    <tr>\n",
       "      <th>817168</th>\n",
       "      <td>65851540.0</td>\n",
       "      <td>Юность</td>\n",
       "      <td>81891</td>\n",
       "      <td>1</td>\n",
       "      <td>8</td>\n",
       "    </tr>\n",
       "    <tr>\n",
       "      <th>644160</th>\n",
       "      <td>45499814.0</td>\n",
       "      <td>Life</td>\n",
       "      <td>81396</td>\n",
       "      <td>1</td>\n",
       "      <td>9</td>\n",
       "    </tr>\n",
       "    <tr>\n",
       "      <th>196522</th>\n",
       "      <td>6705392.0</td>\n",
       "      <td>Seven Nation Army</td>\n",
       "      <td>81063</td>\n",
       "      <td>1</td>\n",
       "      <td>10</td>\n",
       "    </tr>\n",
       "  </tbody>\n",
       "</table>\n",
       "</div>"
      ],
      "text/plain": [
       "          track_id                     name  listening_count  top_pop_rating  \\\n",
       "9092       53404.0  Smells Like Teen Spirit           111062               1   \n",
       "481638  33311009.0                 Believer           102752               1   \n",
       "26638     178529.0                     Numb           101913               1   \n",
       "509799  35505245.0               I Got Love            97415               1   \n",
       "90174     795836.0        Shape Of My Heart            84540               1   \n",
       "366338  24692821.0           Way Down We Go            83804               1   \n",
       "473079  32947997.0             Shape of You            82874               1   \n",
       "817168  65851540.0                   Юность            81891               1   \n",
       "644160  45499814.0                     Life            81396               1   \n",
       "196522   6705392.0        Seven Nation Army            81063               1   \n",
       "\n",
       "        rank  \n",
       "9092       1  \n",
       "481638     2  \n",
       "26638      3  \n",
       "509799     4  \n",
       "90174      5  \n",
       "366338     6  \n",
       "473079     7  \n",
       "817168     8  \n",
       "644160     9  \n",
       "196522    10  "
      ]
     },
     "execution_count": 25,
     "metadata": {},
     "output_type": "execute_result"
    }
   ],
   "source": [
    "top_popular"
   ]
  },
  {
   "cell_type": "code",
   "execution_count": 10,
   "id": "5e9f2369",
   "metadata": {},
   "outputs": [],
   "source": [
    "# количество пользователей в train и test\n",
    "users_train = events_train[\"user_id\"].drop_duplicates()\n",
    "users_test = events_test[\"user_id\"].drop_duplicates()"
   ]
  },
  {
   "cell_type": "code",
   "execution_count": 11,
   "id": "37b8dcc5",
   "metadata": {},
   "outputs": [
    {
     "name": "stdout",
     "output_type": "stream",
     "text": [
      "30660\n"
     ]
    }
   ],
   "source": [
    "cold_users = []\n",
    "\n",
    "for i in users_test.values:\n",
    "    if i not in users_train.values:\n",
    "        cold_users.append(i)\n",
    "\n",
    "print(len(cold_users))"
   ]
  },
  {
   "cell_type": "code",
   "execution_count": 30,
   "id": "859b901a",
   "metadata": {},
   "outputs": [
    {
     "name": "stderr",
     "output_type": "stream",
     "text": [
      "/tmp/ipykernel_2693/3030950658.py:1: SettingWithCopyWarning: \n",
      "A value is trying to be set on a copy of a slice from a DataFrame.\n",
      "Try using .loc[row_indexer,col_indexer] = value instead\n",
      "\n",
      "See the caveats in the documentation: https://pandas.pydata.org/pandas-docs/stable/user_guide/indexing.html#returning-a-view-versus-a-copy\n",
      "  events_test['rating'] = 1\n"
     ]
    }
   ],
   "source": [
    "events_test['rating'] = 1"
   ]
  },
  {
   "cell_type": "code",
   "execution_count": 26,
   "id": "fe00533b",
   "metadata": {},
   "outputs": [],
   "source": [
    "cold_user_recs = \\\n",
    "    events_test[events_test[\"user_id\"].isin(cold_users)] \\\n",
    "    .merge(top_popular, on=\"track_id\", how=\"left\")"
   ]
  },
  {
   "cell_type": "code",
   "execution_count": 27,
   "id": "3dc6377c",
   "metadata": {},
   "outputs": [],
   "source": [
    "cold_user_recs = cold_user_recs.fillna(0)"
   ]
  },
  {
   "cell_type": "code",
   "execution_count": 31,
   "id": "1ec4b2a7",
   "metadata": {},
   "outputs": [],
   "source": [
    "all_users_recs = events_test[['track_id','user_id']].merge(top_popular, on=\"track_id\", how=\"left\")\n",
    "all_users_recs[\"top_pop_rating\"] = all_users_recs[\"top_pop_rating\"].fillna(0)"
   ]
  },
  {
   "cell_type": "code",
   "execution_count": null,
   "id": "649b660b",
   "metadata": {},
   "outputs": [
    {
     "name": "stdout",
     "output_type": "stream",
     "text": [
      "RMSE: 1.0\n",
      "MAE: 0.99\n",
      "Coverage: 1.020207244899729e-05\n",
      "Novelty: 0.9948650810776672\n"
     ]
    }
   ],
   "source": [
    "# посчитаем метрики рекомендаций\n",
    "from sklearn.metrics import mean_squared_error, mean_absolute_error\n",
    "\n",
    "rmse_top = mean_squared_error(cold_user_recs[\"rating\"], cold_user_recs[\"top_pop_rating\"], squared=False)\n",
    "mae_top = mean_absolute_error(cold_user_recs[\"rating\"], cold_user_recs[\"top_pop_rating\"])\n",
    "coverave_top = compute_coverage(top_popular)\n",
    "novelty_top =  (1-all_users_recs.groupby(\"user_id\")[\"top_pop_rating\"].sum()/10)\n",
    "\n",
    "print(f'RMSE: {round(rmse_top, 2)}')\n",
    "print(f'MAE: {round(mae_top, 2)}')\n",
    "print(f'Coverage: {coverave_top}')\n",
    "print(f'Novelty: {novelty_top.mean()}')"
   ]
  },
  {
   "cell_type": "markdown",
   "id": "44e067fb",
   "metadata": {},
   "source": [
    "#### Персональные рекомендации, полученные при помощи ALS"
   ]
  },
  {
   "cell_type": "code",
   "execution_count": 7,
   "id": "55531739",
   "metadata": {},
   "outputs": [],
   "source": [
    "als_recommendations = pd.read_parquet('personal_als.parquet')"
   ]
  },
  {
   "cell_type": "code",
   "execution_count": 8,
   "id": "799a42dd",
   "metadata": {},
   "outputs": [
    {
     "name": "stderr",
     "output_type": "stream",
     "text": [
      "/tmp/ipykernel_3047/2213935890.py:10: SettingWithCopyWarning: \n",
      "A value is trying to be set on a copy of a slice from a DataFrame.\n",
      "Try using .loc[row_indexer,col_indexer] = value instead\n",
      "\n",
      "See the caveats in the documentation: https://pandas.pydata.org/pandas-docs/stable/user_guide/indexing.html#returning-a-view-versus-a-copy\n",
      "  events_test[\"gt\"] = True\n"
     ]
    },
    {
     "name": "stdout",
     "output_type": "stream",
     "text": [
      "Common users: 760012\n"
     ]
    }
   ],
   "source": [
    "events_recs_for_binary_metrics = process_events_recs_for_binary_metrics(\n",
    "    events_train,\n",
    "    events_test, \n",
    "    als_recommendations, \n",
    "    top_k=5\n",
    "    )"
   ]
  },
  {
   "cell_type": "markdown",
   "id": "2192f5ec",
   "metadata": {},
   "source": [
    "Метрику Novelty посчитать не получилось, так как не хватает ресурсов виртуальной машины."
   ]
  },
  {
   "cell_type": "code",
   "execution_count": 9,
   "id": "8b48b069",
   "metadata": {},
   "outputs": [
    {
     "name": "stdout",
     "output_type": "stream",
     "text": [
      "Precision: 0.0057783298158450135\n",
      "Recall: 0.005163329934174448\n",
      "Coverage: 0.007893343453789203\n"
     ]
    }
   ],
   "source": [
    "precision_als, recall_als = compute_cls_metrics(events_recs_for_binary_metrics)\n",
    "coverave_als = compute_coverage(als_recommendations)\n",
    "print(f'Precision: {precision_als}')\n",
    "print(f'Recall: {recall_als}')\n",
    "print(f'Coverage: {coverave_als}')"
   ]
  },
  {
   "cell_type": "markdown",
   "id": "9c9de798",
   "metadata": {},
   "source": [
    "#### Итоговые рекомендации"
   ]
  },
  {
   "cell_type": "code",
   "execution_count": 10,
   "id": "8c23123d",
   "metadata": {},
   "outputs": [],
   "source": [
    "recommendations = pd.read_parquet('recommendations.parquet')"
   ]
  },
  {
   "cell_type": "code",
   "execution_count": 11,
   "id": "832b4dd6",
   "metadata": {},
   "outputs": [
    {
     "name": "stderr",
     "output_type": "stream",
     "text": [
      "/tmp/ipykernel_3047/2213935890.py:10: SettingWithCopyWarning: \n",
      "A value is trying to be set on a copy of a slice from a DataFrame.\n",
      "Try using .loc[row_indexer,col_indexer] = value instead\n",
      "\n",
      "See the caveats in the documentation: https://pandas.pydata.org/pandas-docs/stable/user_guide/indexing.html#returning-a-view-versus-a-copy\n",
      "  events_test[\"gt\"] = True\n"
     ]
    },
    {
     "name": "stdout",
     "output_type": "stream",
     "text": [
      "Common users: 4755\n"
     ]
    }
   ],
   "source": [
    "events_recs_for_binary_metrics = process_events_recs_for_binary_metrics(\n",
    "    events_train,\n",
    "    events_test, \n",
    "    recommendations, \n",
    "    top_k=5\n",
    "    )"
   ]
  },
  {
   "cell_type": "code",
   "execution_count": 17,
   "id": "712b41d2",
   "metadata": {},
   "outputs": [
    {
     "name": "stdout",
     "output_type": "stream",
     "text": [
      "Precision: 0.17051524710830704\n",
      "Recall: 0.1298710708711453\n",
      "Coverage: 0.007893343453789203\n",
      "Novelty: 0.8405397826848932\n"
     ]
    }
   ],
   "source": [
    "precision_final, recall_final = compute_cls_metrics(events_recs_for_binary_metrics)\n",
    "coverave_final = compute_coverage(als_recommendations)\n",
    "novelty_final = (1-recommendations.query(\"rank <= 5\").groupby(\"user_id\")[\"target\"].mean()).mean()\n",
    "print(f'Precision: {precision_final}')\n",
    "print(f'Recall: {recall_final}')\n",
    "print(f'Coverage: {coverave_final}')\n",
    "print(f'Novelty: {novelty_final}')"
   ]
  },
  {
   "cell_type": "markdown",
   "id": "f1c8d38c-32b0-46a4-96f0-cd01dac708bc",
   "metadata": {},
   "source": [
    "# === Выводы, метрики ==="
   ]
  },
  {
   "cell_type": "markdown",
   "id": "f7d7d5d8-7d1e-4fdf-a6cd-83e5ce92c684",
   "metadata": {},
   "source": [
    "Основные выводы при работе над расчётом рекомендаций, рассчитанные метрики."
   ]
  },
  {
   "cell_type": "markdown",
   "id": "6acb39c1",
   "metadata": {},
   "source": [
    "Рекомендации из топа популярных оказались новыми практически для всех холодных пользователей. Покрытие у всех рекомендаций очень маленькое, что ожидаемо, ведь мы рекомендуем очень мало треков относительно всей выборки. По метрикам precision и recall итоговые рекоммендации оказались лучше чем als."
   ]
  },
  {
   "cell_type": "markdown",
   "id": "0875193f",
   "metadata": {},
   "source": [
    "По итогу финальные рекомендации оказались лучшими."
   ]
  }
 ],
 "metadata": {
  "kernelspec": {
   "display_name": "env_sprint4",
   "language": "python",
   "name": "python3"
  },
  "language_info": {
   "codemirror_mode": {
    "name": "ipython",
    "version": 3
   },
   "file_extension": ".py",
   "mimetype": "text/x-python",
   "name": "python",
   "nbconvert_exporter": "python",
   "pygments_lexer": "ipython3",
   "version": "3.10.12"
  }
 },
 "nbformat": 4,
 "nbformat_minor": 5
}
